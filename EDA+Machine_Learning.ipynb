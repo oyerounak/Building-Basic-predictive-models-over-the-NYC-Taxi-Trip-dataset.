{
  "cells": [
    {
      "cell_type": "markdown",
      "metadata": {
        "id": "view-in-github",
        "colab_type": "text"
      },
      "source": [
        "<a href=\"https://colab.research.google.com/github/oyerounak/Building-Basic-predictive-models-over-the-NYC-Taxi-Trip-dataset./blob/main/EDA%2BMachine_Learning.ipynb\" target=\"_parent\"><img src=\"https://colab.research.google.com/assets/colab-badge.svg\" alt=\"Open In Colab\"/></a>"
      ]
    },
    {
      "cell_type": "markdown",
      "metadata": {
        "id": "b8564470"
      },
      "source": [
        "## 1. Exploratory Data Analysis"
      ],
      "id": "b8564470"
    },
    {
      "cell_type": "code",
      "execution_count": 152,
      "metadata": {
        "id": "d8923dbe"
      },
      "outputs": [],
      "source": [
        "# Importing libraries\n",
        "import pandas as pd\n",
        "import numpy as np\n",
        "\n",
        "import matplotlib.pyplot as plt\n",
        "import seaborn as sns\n",
        "\n",
        "from sklearn.preprocessing import LabelEncoder\n",
        "\n",
        "from sklearn.model_selection import train_test_split\n",
        "\n",
        "from sklearn.neighbors import KNeighborsRegressor as KNN\n",
        "from sklearn.linear_model import LinearRegression\n",
        "from sklearn.tree import DecisionTreeRegressor\n",
        "\n",
        "import warnings\n",
        "warnings.filterwarnings('ignore')"
      ],
      "id": "d8923dbe"
    },
    {
      "cell_type": "code",
      "execution_count": 153,
      "metadata": {
        "id": "77be7483"
      },
      "outputs": [],
      "source": [
        "#Importing the dataset\n",
        "\n",
        "df = pd.read_csv('nyc_taxi_trip_duration.csv')"
      ],
      "id": "77be7483"
    },
    {
      "cell_type": "markdown",
      "metadata": {
        "id": "9f015e60"
      },
      "source": [
        "Let's check the data files! According to the data description we should find the following columns:\n",
        "\n",
        " - **id** - a unique identifier for each trip\n",
        " - **vendor_id** - a code indicating the provider associated with the trip record\n",
        " - **pickup_datetime** - date and time when the meter was engaged\n",
        " - **dropoff_datetime** - date and time when the meter was disengaged\n",
        " - **passenger_count** - the number of passengers in the vehicle (driver entered value)\n",
        " - **pickup_longitude** - the longitude where the meter was engaged\n",
        " - **pickup_latitude** - the latitude where the meter was engaged\n",
        " - **dropoff_longitude** - the longitude where the meter was disengaged\n",
        " - **dropoff_latitude** - the latitude where the meter was disengaged\n",
        " - **store_and_fwd_flag** - This flag indicates whether the trip record was held in vehicle memory before sending to the vendor because the vehicle did not have a connection to the server (Y=store and forward; N=not a store and forward trip)\n",
        " - **trip_duration** - (target) duration of the trip in seconds\n",
        "\n",
        "Here, we have 2 variables dropoff_datetime and store_and_fwd_flag which are not available before the trip starts and hence will not be used as features to the model."
      ],
      "id": "9f015e60"
    },
    {
      "cell_type": "code",
      "execution_count": 154,
      "metadata": {
        "colab": {
          "base_uri": "https://localhost:8080/"
        },
        "id": "d6f3848e",
        "outputId": "0ecda5d3-e73b-4c10-a681-ec12415498d1"
      },
      "outputs": [
        {
          "output_type": "stream",
          "name": "stdout",
          "text": [
            "No. of rows:  446454\n",
            "No. of columns:  11\n"
          ]
        }
      ],
      "source": [
        "print(\"No. of rows: \", df.shape[0])\n",
        "print(\"No. of columns: \", df.shape[1])"
      ],
      "id": "d6f3848e"
    },
    {
      "cell_type": "code",
      "execution_count": 155,
      "metadata": {
        "colab": {
          "base_uri": "https://localhost:8080/",
          "height": 206
        },
        "id": "52f4265e",
        "outputId": "dd044956-d0e4-4d62-b208-20b85b7c27fe"
      },
      "outputs": [
        {
          "output_type": "execute_result",
          "data": {
            "text/plain": [
              "          id  vendor_id      pickup_datetime     dropoff_datetime  \\\n",
              "0  id1080784          2  2016-02-29 16:40:21  2016-02-29 16:47:01   \n",
              "1  id0889885          1  2016-03-11 23:35:37  2016-03-11 23:53:57   \n",
              "2  id0857912          2  2016-02-21 17:59:33  2016-02-21 18:26:48   \n",
              "3  id3744273          2  2016-01-05 09:44:31  2016-01-05 10:03:32   \n",
              "4  id0232939          1  2016-02-17 06:42:23  2016-02-17 06:56:31   \n",
              "\n",
              "   passenger_count  pickup_longitude  pickup_latitude  dropoff_longitude  \\\n",
              "0                1        -73.953918        40.778873         -73.963875   \n",
              "1                2        -73.988312        40.731743         -73.994751   \n",
              "2                2        -73.997314        40.721458         -73.948029   \n",
              "3                6        -73.961670        40.759720         -73.956779   \n",
              "4                1        -74.017120        40.708469         -73.988182   \n",
              "\n",
              "   dropoff_latitude store_and_fwd_flag  trip_duration  \n",
              "0         40.771164                  N          400.0  \n",
              "1         40.694931                  N         1100.0  \n",
              "2         40.774918                  N         1635.0  \n",
              "3         40.780628                  N         1141.0  \n",
              "4         40.740631                  N          848.0  "
            ],
            "text/html": [
              "\n",
              "  <div id=\"df-f2c6cf45-8de5-4668-94e8-0d7ea8adfe5a\">\n",
              "    <div class=\"colab-df-container\">\n",
              "      <div>\n",
              "<style scoped>\n",
              "    .dataframe tbody tr th:only-of-type {\n",
              "        vertical-align: middle;\n",
              "    }\n",
              "\n",
              "    .dataframe tbody tr th {\n",
              "        vertical-align: top;\n",
              "    }\n",
              "\n",
              "    .dataframe thead th {\n",
              "        text-align: right;\n",
              "    }\n",
              "</style>\n",
              "<table border=\"1\" class=\"dataframe\">\n",
              "  <thead>\n",
              "    <tr style=\"text-align: right;\">\n",
              "      <th></th>\n",
              "      <th>id</th>\n",
              "      <th>vendor_id</th>\n",
              "      <th>pickup_datetime</th>\n",
              "      <th>dropoff_datetime</th>\n",
              "      <th>passenger_count</th>\n",
              "      <th>pickup_longitude</th>\n",
              "      <th>pickup_latitude</th>\n",
              "      <th>dropoff_longitude</th>\n",
              "      <th>dropoff_latitude</th>\n",
              "      <th>store_and_fwd_flag</th>\n",
              "      <th>trip_duration</th>\n",
              "    </tr>\n",
              "  </thead>\n",
              "  <tbody>\n",
              "    <tr>\n",
              "      <th>0</th>\n",
              "      <td>id1080784</td>\n",
              "      <td>2</td>\n",
              "      <td>2016-02-29 16:40:21</td>\n",
              "      <td>2016-02-29 16:47:01</td>\n",
              "      <td>1</td>\n",
              "      <td>-73.953918</td>\n",
              "      <td>40.778873</td>\n",
              "      <td>-73.963875</td>\n",
              "      <td>40.771164</td>\n",
              "      <td>N</td>\n",
              "      <td>400.0</td>\n",
              "    </tr>\n",
              "    <tr>\n",
              "      <th>1</th>\n",
              "      <td>id0889885</td>\n",
              "      <td>1</td>\n",
              "      <td>2016-03-11 23:35:37</td>\n",
              "      <td>2016-03-11 23:53:57</td>\n",
              "      <td>2</td>\n",
              "      <td>-73.988312</td>\n",
              "      <td>40.731743</td>\n",
              "      <td>-73.994751</td>\n",
              "      <td>40.694931</td>\n",
              "      <td>N</td>\n",
              "      <td>1100.0</td>\n",
              "    </tr>\n",
              "    <tr>\n",
              "      <th>2</th>\n",
              "      <td>id0857912</td>\n",
              "      <td>2</td>\n",
              "      <td>2016-02-21 17:59:33</td>\n",
              "      <td>2016-02-21 18:26:48</td>\n",
              "      <td>2</td>\n",
              "      <td>-73.997314</td>\n",
              "      <td>40.721458</td>\n",
              "      <td>-73.948029</td>\n",
              "      <td>40.774918</td>\n",
              "      <td>N</td>\n",
              "      <td>1635.0</td>\n",
              "    </tr>\n",
              "    <tr>\n",
              "      <th>3</th>\n",
              "      <td>id3744273</td>\n",
              "      <td>2</td>\n",
              "      <td>2016-01-05 09:44:31</td>\n",
              "      <td>2016-01-05 10:03:32</td>\n",
              "      <td>6</td>\n",
              "      <td>-73.961670</td>\n",
              "      <td>40.759720</td>\n",
              "      <td>-73.956779</td>\n",
              "      <td>40.780628</td>\n",
              "      <td>N</td>\n",
              "      <td>1141.0</td>\n",
              "    </tr>\n",
              "    <tr>\n",
              "      <th>4</th>\n",
              "      <td>id0232939</td>\n",
              "      <td>1</td>\n",
              "      <td>2016-02-17 06:42:23</td>\n",
              "      <td>2016-02-17 06:56:31</td>\n",
              "      <td>1</td>\n",
              "      <td>-74.017120</td>\n",
              "      <td>40.708469</td>\n",
              "      <td>-73.988182</td>\n",
              "      <td>40.740631</td>\n",
              "      <td>N</td>\n",
              "      <td>848.0</td>\n",
              "    </tr>\n",
              "  </tbody>\n",
              "</table>\n",
              "</div>\n",
              "      <button class=\"colab-df-convert\" onclick=\"convertToInteractive('df-f2c6cf45-8de5-4668-94e8-0d7ea8adfe5a')\"\n",
              "              title=\"Convert this dataframe to an interactive table.\"\n",
              "              style=\"display:none;\">\n",
              "        \n",
              "  <svg xmlns=\"http://www.w3.org/2000/svg\" height=\"24px\"viewBox=\"0 0 24 24\"\n",
              "       width=\"24px\">\n",
              "    <path d=\"M0 0h24v24H0V0z\" fill=\"none\"/>\n",
              "    <path d=\"M18.56 5.44l.94 2.06.94-2.06 2.06-.94-2.06-.94-.94-2.06-.94 2.06-2.06.94zm-11 1L8.5 8.5l.94-2.06 2.06-.94-2.06-.94L8.5 2.5l-.94 2.06-2.06.94zm10 10l.94 2.06.94-2.06 2.06-.94-2.06-.94-.94-2.06-.94 2.06-2.06.94z\"/><path d=\"M17.41 7.96l-1.37-1.37c-.4-.4-.92-.59-1.43-.59-.52 0-1.04.2-1.43.59L10.3 9.45l-7.72 7.72c-.78.78-.78 2.05 0 2.83L4 21.41c.39.39.9.59 1.41.59.51 0 1.02-.2 1.41-.59l7.78-7.78 2.81-2.81c.8-.78.8-2.07 0-2.86zM5.41 20L4 18.59l7.72-7.72 1.47 1.35L5.41 20z\"/>\n",
              "  </svg>\n",
              "      </button>\n",
              "      \n",
              "  <style>\n",
              "    .colab-df-container {\n",
              "      display:flex;\n",
              "      flex-wrap:wrap;\n",
              "      gap: 12px;\n",
              "    }\n",
              "\n",
              "    .colab-df-convert {\n",
              "      background-color: #E8F0FE;\n",
              "      border: none;\n",
              "      border-radius: 50%;\n",
              "      cursor: pointer;\n",
              "      display: none;\n",
              "      fill: #1967D2;\n",
              "      height: 32px;\n",
              "      padding: 0 0 0 0;\n",
              "      width: 32px;\n",
              "    }\n",
              "\n",
              "    .colab-df-convert:hover {\n",
              "      background-color: #E2EBFA;\n",
              "      box-shadow: 0px 1px 2px rgba(60, 64, 67, 0.3), 0px 1px 3px 1px rgba(60, 64, 67, 0.15);\n",
              "      fill: #174EA6;\n",
              "    }\n",
              "\n",
              "    [theme=dark] .colab-df-convert {\n",
              "      background-color: #3B4455;\n",
              "      fill: #D2E3FC;\n",
              "    }\n",
              "\n",
              "    [theme=dark] .colab-df-convert:hover {\n",
              "      background-color: #434B5C;\n",
              "      box-shadow: 0px 1px 3px 1px rgba(0, 0, 0, 0.15);\n",
              "      filter: drop-shadow(0px 1px 2px rgba(0, 0, 0, 0.3));\n",
              "      fill: #FFFFFF;\n",
              "    }\n",
              "  </style>\n",
              "\n",
              "      <script>\n",
              "        const buttonEl =\n",
              "          document.querySelector('#df-f2c6cf45-8de5-4668-94e8-0d7ea8adfe5a button.colab-df-convert');\n",
              "        buttonEl.style.display =\n",
              "          google.colab.kernel.accessAllowed ? 'block' : 'none';\n",
              "\n",
              "        async function convertToInteractive(key) {\n",
              "          const element = document.querySelector('#df-f2c6cf45-8de5-4668-94e8-0d7ea8adfe5a');\n",
              "          const dataTable =\n",
              "            await google.colab.kernel.invokeFunction('convertToInteractive',\n",
              "                                                     [key], {});\n",
              "          if (!dataTable) return;\n",
              "\n",
              "          const docLinkHtml = 'Like what you see? Visit the ' +\n",
              "            '<a target=\"_blank\" href=https://colab.research.google.com/notebooks/data_table.ipynb>data table notebook</a>'\n",
              "            + ' to learn more about interactive tables.';\n",
              "          element.innerHTML = '';\n",
              "          dataTable['output_type'] = 'display_data';\n",
              "          await google.colab.output.renderOutput(dataTable, element);\n",
              "          const docLink = document.createElement('div');\n",
              "          docLink.innerHTML = docLinkHtml;\n",
              "          element.appendChild(docLink);\n",
              "        }\n",
              "      </script>\n",
              "    </div>\n",
              "  </div>\n",
              "  "
            ]
          },
          "metadata": {},
          "execution_count": 155
        }
      ],
      "source": [
        "df.head()"
      ],
      "id": "52f4265e"
    },
    {
      "cell_type": "code",
      "execution_count": 156,
      "metadata": {
        "colab": {
          "base_uri": "https://localhost:8080/",
          "height": 250
        },
        "id": "d1224ebf",
        "outputId": "507940aa-48bf-40f6-a893-c77d426a2df9"
      },
      "outputs": [
        {
          "output_type": "execute_result",
          "data": {
            "text/plain": [
              "               id  vendor_id      pickup_datetime     dropoff_datetime  \\\n",
              "446449  id2892154          1  2016-04-28 20:12:05  2016-04-28 20:24:14   \n",
              "446450  id1308098          1  2016-05-24 04:27:06  2016-05-24 04:27:58   \n",
              "446451  id1971901          2  2016-05-26 10:22:36  2016-05-26 10:31:44   \n",
              "446452  id3612447          2  2016-06-09 11:06:24  2016-06-09 11:13:40   \n",
              "446453  id0001013          2  2016-03-07 11:36:31  2016-03-07 11:58:16   \n",
              "\n",
              "        passenger_count  pickup_longitude  pickup_latitude  dropoff_longitude  \\\n",
              "446449                1        -73.979034        40.761395         -73.993896   \n",
              "446450                1        -73.985443        40.723320         -73.982285   \n",
              "446451                1        -73.983490        40.726166         -73.987617   \n",
              "446452                1        -73.980629        40.750938         -73.973419   \n",
              "446453                6        -73.976044        40.759811         -73.872612   \n",
              "\n",
              "        dropoff_latitude store_and_fwd_flag  trip_duration  \n",
              "446449         40.756786                  N          729.0  \n",
              "446450         40.727695                  N           52.0  \n",
              "446451         40.740902                  N          548.0  \n",
              "446452         40.760910                  N          436.0  \n",
              "446453               NaN                NaN            NaN  "
            ],
            "text/html": [
              "\n",
              "  <div id=\"df-5888bce4-55e7-430e-a824-dbb3a5c706e1\">\n",
              "    <div class=\"colab-df-container\">\n",
              "      <div>\n",
              "<style scoped>\n",
              "    .dataframe tbody tr th:only-of-type {\n",
              "        vertical-align: middle;\n",
              "    }\n",
              "\n",
              "    .dataframe tbody tr th {\n",
              "        vertical-align: top;\n",
              "    }\n",
              "\n",
              "    .dataframe thead th {\n",
              "        text-align: right;\n",
              "    }\n",
              "</style>\n",
              "<table border=\"1\" class=\"dataframe\">\n",
              "  <thead>\n",
              "    <tr style=\"text-align: right;\">\n",
              "      <th></th>\n",
              "      <th>id</th>\n",
              "      <th>vendor_id</th>\n",
              "      <th>pickup_datetime</th>\n",
              "      <th>dropoff_datetime</th>\n",
              "      <th>passenger_count</th>\n",
              "      <th>pickup_longitude</th>\n",
              "      <th>pickup_latitude</th>\n",
              "      <th>dropoff_longitude</th>\n",
              "      <th>dropoff_latitude</th>\n",
              "      <th>store_and_fwd_flag</th>\n",
              "      <th>trip_duration</th>\n",
              "    </tr>\n",
              "  </thead>\n",
              "  <tbody>\n",
              "    <tr>\n",
              "      <th>446449</th>\n",
              "      <td>id2892154</td>\n",
              "      <td>1</td>\n",
              "      <td>2016-04-28 20:12:05</td>\n",
              "      <td>2016-04-28 20:24:14</td>\n",
              "      <td>1</td>\n",
              "      <td>-73.979034</td>\n",
              "      <td>40.761395</td>\n",
              "      <td>-73.993896</td>\n",
              "      <td>40.756786</td>\n",
              "      <td>N</td>\n",
              "      <td>729.0</td>\n",
              "    </tr>\n",
              "    <tr>\n",
              "      <th>446450</th>\n",
              "      <td>id1308098</td>\n",
              "      <td>1</td>\n",
              "      <td>2016-05-24 04:27:06</td>\n",
              "      <td>2016-05-24 04:27:58</td>\n",
              "      <td>1</td>\n",
              "      <td>-73.985443</td>\n",
              "      <td>40.723320</td>\n",
              "      <td>-73.982285</td>\n",
              "      <td>40.727695</td>\n",
              "      <td>N</td>\n",
              "      <td>52.0</td>\n",
              "    </tr>\n",
              "    <tr>\n",
              "      <th>446451</th>\n",
              "      <td>id1971901</td>\n",
              "      <td>2</td>\n",
              "      <td>2016-05-26 10:22:36</td>\n",
              "      <td>2016-05-26 10:31:44</td>\n",
              "      <td>1</td>\n",
              "      <td>-73.983490</td>\n",
              "      <td>40.726166</td>\n",
              "      <td>-73.987617</td>\n",
              "      <td>40.740902</td>\n",
              "      <td>N</td>\n",
              "      <td>548.0</td>\n",
              "    </tr>\n",
              "    <tr>\n",
              "      <th>446452</th>\n",
              "      <td>id3612447</td>\n",
              "      <td>2</td>\n",
              "      <td>2016-06-09 11:06:24</td>\n",
              "      <td>2016-06-09 11:13:40</td>\n",
              "      <td>1</td>\n",
              "      <td>-73.980629</td>\n",
              "      <td>40.750938</td>\n",
              "      <td>-73.973419</td>\n",
              "      <td>40.760910</td>\n",
              "      <td>N</td>\n",
              "      <td>436.0</td>\n",
              "    </tr>\n",
              "    <tr>\n",
              "      <th>446453</th>\n",
              "      <td>id0001013</td>\n",
              "      <td>2</td>\n",
              "      <td>2016-03-07 11:36:31</td>\n",
              "      <td>2016-03-07 11:58:16</td>\n",
              "      <td>6</td>\n",
              "      <td>-73.976044</td>\n",
              "      <td>40.759811</td>\n",
              "      <td>-73.872612</td>\n",
              "      <td>NaN</td>\n",
              "      <td>NaN</td>\n",
              "      <td>NaN</td>\n",
              "    </tr>\n",
              "  </tbody>\n",
              "</table>\n",
              "</div>\n",
              "      <button class=\"colab-df-convert\" onclick=\"convertToInteractive('df-5888bce4-55e7-430e-a824-dbb3a5c706e1')\"\n",
              "              title=\"Convert this dataframe to an interactive table.\"\n",
              "              style=\"display:none;\">\n",
              "        \n",
              "  <svg xmlns=\"http://www.w3.org/2000/svg\" height=\"24px\"viewBox=\"0 0 24 24\"\n",
              "       width=\"24px\">\n",
              "    <path d=\"M0 0h24v24H0V0z\" fill=\"none\"/>\n",
              "    <path d=\"M18.56 5.44l.94 2.06.94-2.06 2.06-.94-2.06-.94-.94-2.06-.94 2.06-2.06.94zm-11 1L8.5 8.5l.94-2.06 2.06-.94-2.06-.94L8.5 2.5l-.94 2.06-2.06.94zm10 10l.94 2.06.94-2.06 2.06-.94-2.06-.94-.94-2.06-.94 2.06-2.06.94z\"/><path d=\"M17.41 7.96l-1.37-1.37c-.4-.4-.92-.59-1.43-.59-.52 0-1.04.2-1.43.59L10.3 9.45l-7.72 7.72c-.78.78-.78 2.05 0 2.83L4 21.41c.39.39.9.59 1.41.59.51 0 1.02-.2 1.41-.59l7.78-7.78 2.81-2.81c.8-.78.8-2.07 0-2.86zM5.41 20L4 18.59l7.72-7.72 1.47 1.35L5.41 20z\"/>\n",
              "  </svg>\n",
              "      </button>\n",
              "      \n",
              "  <style>\n",
              "    .colab-df-container {\n",
              "      display:flex;\n",
              "      flex-wrap:wrap;\n",
              "      gap: 12px;\n",
              "    }\n",
              "\n",
              "    .colab-df-convert {\n",
              "      background-color: #E8F0FE;\n",
              "      border: none;\n",
              "      border-radius: 50%;\n",
              "      cursor: pointer;\n",
              "      display: none;\n",
              "      fill: #1967D2;\n",
              "      height: 32px;\n",
              "      padding: 0 0 0 0;\n",
              "      width: 32px;\n",
              "    }\n",
              "\n",
              "    .colab-df-convert:hover {\n",
              "      background-color: #E2EBFA;\n",
              "      box-shadow: 0px 1px 2px rgba(60, 64, 67, 0.3), 0px 1px 3px 1px rgba(60, 64, 67, 0.15);\n",
              "      fill: #174EA6;\n",
              "    }\n",
              "\n",
              "    [theme=dark] .colab-df-convert {\n",
              "      background-color: #3B4455;\n",
              "      fill: #D2E3FC;\n",
              "    }\n",
              "\n",
              "    [theme=dark] .colab-df-convert:hover {\n",
              "      background-color: #434B5C;\n",
              "      box-shadow: 0px 1px 3px 1px rgba(0, 0, 0, 0.15);\n",
              "      filter: drop-shadow(0px 1px 2px rgba(0, 0, 0, 0.3));\n",
              "      fill: #FFFFFF;\n",
              "    }\n",
              "  </style>\n",
              "\n",
              "      <script>\n",
              "        const buttonEl =\n",
              "          document.querySelector('#df-5888bce4-55e7-430e-a824-dbb3a5c706e1 button.colab-df-convert');\n",
              "        buttonEl.style.display =\n",
              "          google.colab.kernel.accessAllowed ? 'block' : 'none';\n",
              "\n",
              "        async function convertToInteractive(key) {\n",
              "          const element = document.querySelector('#df-5888bce4-55e7-430e-a824-dbb3a5c706e1');\n",
              "          const dataTable =\n",
              "            await google.colab.kernel.invokeFunction('convertToInteractive',\n",
              "                                                     [key], {});\n",
              "          if (!dataTable) return;\n",
              "\n",
              "          const docLinkHtml = 'Like what you see? Visit the ' +\n",
              "            '<a target=\"_blank\" href=https://colab.research.google.com/notebooks/data_table.ipynb>data table notebook</a>'\n",
              "            + ' to learn more about interactive tables.';\n",
              "          element.innerHTML = '';\n",
              "          dataTable['output_type'] = 'display_data';\n",
              "          await google.colab.output.renderOutput(dataTable, element);\n",
              "          const docLink = document.createElement('div');\n",
              "          docLink.innerHTML = docLinkHtml;\n",
              "          element.appendChild(docLink);\n",
              "        }\n",
              "      </script>\n",
              "    </div>\n",
              "  </div>\n",
              "  "
            ]
          },
          "metadata": {},
          "execution_count": 156
        }
      ],
      "source": [
        "df.tail()"
      ],
      "id": "d1224ebf"
    },
    {
      "cell_type": "code",
      "execution_count": 157,
      "metadata": {
        "colab": {
          "base_uri": "https://localhost:8080/"
        },
        "id": "a0ba7144",
        "outputId": "fd514cfb-3041-4eac-a16b-98390bde2917"
      },
      "outputs": [
        {
          "output_type": "stream",
          "name": "stdout",
          "text": [
            "id                    0\n",
            "vendor_id             0\n",
            "pickup_datetime       0\n",
            "dropoff_datetime      0\n",
            "passenger_count       0\n",
            "pickup_longitude      0\n",
            "pickup_latitude       0\n",
            "dropoff_longitude     0\n",
            "dropoff_latitude      1\n",
            "store_and_fwd_flag    1\n",
            "trip_duration         1\n",
            "dtype: int64\n"
          ]
        }
      ],
      "source": [
        "#Missing values\n",
        "print(df.isnull().sum())"
      ],
      "id": "a0ba7144"
    },
    {
      "cell_type": "code",
      "execution_count": 158,
      "metadata": {
        "colab": {
          "base_uri": "https://localhost:8080/"
        },
        "id": "54c7a5c7",
        "outputId": "6e1235c7-aee1-47fe-87f5-9ce6ee198030"
      },
      "outputs": [
        {
          "output_type": "execute_result",
          "data": {
            "text/plain": [
              "id                     object\n",
              "vendor_id               int64\n",
              "pickup_datetime        object\n",
              "dropoff_datetime       object\n",
              "passenger_count         int64\n",
              "pickup_longitude      float64\n",
              "pickup_latitude       float64\n",
              "dropoff_longitude     float64\n",
              "dropoff_latitude      float64\n",
              "store_and_fwd_flag     object\n",
              "trip_duration         float64\n",
              "dtype: object"
            ]
          },
          "metadata": {},
          "execution_count": 158
        }
      ],
      "source": [
        "# checking the datatype of all features in the dataset\n",
        "df.dtypes"
      ],
      "id": "54c7a5c7"
    },
    {
      "cell_type": "markdown",
      "metadata": {
        "id": "57a62d54"
      },
      "source": [
        "**Categorical variables:**\n",
        "\n",
        "id, pickup_datetime, dropoff_datetime, store_and_fwd_flag\n",
        "\n",
        "**Continuous variables:**\n",
        "\n",
        "vendor_id, passenger_count, pickup_longitude, pickup_latitude dropoff_longitude, dropoff_latitude\n",
        "\n",
        "**Target Exploration:** trip_duratation\n",
        "\n",
        "Here the trip_duration is a continuos variable, which determines that the problem is a regression problem.\n",
        "\n",
        "understanding categorical variable"
      ],
      "id": "57a62d54"
    },
    {
      "cell_type": "code",
      "execution_count": 159,
      "metadata": {
        "id": "732c0626"
      },
      "outputs": [],
      "source": [
        "#Transforming pick_up and drop_off date time into a datetime object\n",
        "df['pickup_datetime'] = pd.to_datetime(df['pickup_datetime'], format= '%Y-%m-%d %H:%M:%S')\n",
        "df['dropoff_datetime'] = pd.to_datetime(df['dropoff_datetime'], format='%Y-%m-%d %H:%M:%S')"
      ],
      "id": "732c0626"
    },
    {
      "cell_type": "code",
      "execution_count": 160,
      "metadata": {
        "id": "7e20b5ec"
      },
      "outputs": [],
      "source": [
        "#Transforming vendor_id and store_and_fwd to categorical data type\n",
        "df['vendor_id'] = df['vendor_id'].astype('category')\n",
        "df['store_and_fwd_flag'] = df['store_and_fwd_flag'].astype('category')"
      ],
      "id": "7e20b5ec"
    },
    {
      "cell_type": "code",
      "execution_count": 161,
      "metadata": {
        "id": "646601aa"
      },
      "outputs": [],
      "source": [
        "# Converting yes/no flag to 1 and 0 and transforming it into categorical data type\n",
        "df['store_and_fwd_flag'] = 1 * (df.store_and_fwd_flag.values == 'Y')\n",
        "df['store_and_fwd_flag'] = df['store_and_fwd_flag'].astype('category')"
      ],
      "id": "646601aa"
    },
    {
      "cell_type": "code",
      "execution_count": 162,
      "metadata": {
        "colab": {
          "base_uri": "https://localhost:8080/"
        },
        "id": "3363a36b",
        "outputId": "0403621f-02b2-4845-f90f-c3379e458bf3"
      },
      "outputs": [
        {
          "output_type": "execute_result",
          "data": {
            "text/plain": [
              "id                            object\n",
              "vendor_id                   category\n",
              "pickup_datetime       datetime64[ns]\n",
              "dropoff_datetime      datetime64[ns]\n",
              "passenger_count                int64\n",
              "pickup_longitude             float64\n",
              "pickup_latitude              float64\n",
              "dropoff_longitude            float64\n",
              "dropoff_latitude             float64\n",
              "store_and_fwd_flag          category\n",
              "trip_duration                float64\n",
              "dtype: object"
            ]
          },
          "metadata": {},
          "execution_count": 162
        }
      ],
      "source": [
        "#Checking the data types again\n",
        "df.dtypes"
      ],
      "id": "3363a36b"
    },
    {
      "cell_type": "code",
      "execution_count": 163,
      "metadata": {
        "colab": {
          "base_uri": "https://localhost:8080/"
        },
        "id": "ba0e9410",
        "outputId": "fe764915-da3f-45e6-dddd-bf2a3b0f5b54"
      },
      "outputs": [
        {
          "output_type": "execute_result",
          "data": {
            "text/plain": [
              "(0, 12)"
            ]
          },
          "metadata": {},
          "execution_count": 163
        }
      ],
      "source": [
        "df['check_trip_duration'] = (df['dropoff_datetime'] - df['pickup_datetime']).map(lambda x: x.total_seconds())\n",
        "\n",
        "duration_difference = df[np.abs(df['check_trip_duration'].values  - df['trip_duration'].values) > 1]\n",
        "duration_difference.shape"
      ],
      "id": "ba0e9410"
    },
    {
      "cell_type": "markdown",
      "metadata": {
        "id": "7a3db387"
      },
      "source": [
        "This implies that there is no inconsistency in data wrt the drop location and trip duration"
      ],
      "id": "7a3db387"
    },
    {
      "cell_type": "code",
      "execution_count": 164,
      "metadata": {
        "colab": {
          "base_uri": "https://localhost:8080/"
        },
        "id": "de8365a7",
        "outputId": "923ffc61-3d36-4654-dc1e-9c1b95647859"
      },
      "outputs": [
        {
          "output_type": "stream",
          "name": "stdout",
          "text": [
            "Startdate:  2016-01-01 00:02:06\n",
            "Enddate:  2016-06-30 23:59:37\n"
          ]
        }
      ],
      "source": [
        "print(\"Startdate: \", df['pickup_datetime'].min())\n",
        "print(\"Enddate: \", df['pickup_datetime'].max())"
      ],
      "id": "de8365a7"
    },
    {
      "cell_type": "markdown",
      "metadata": {
        "id": "704f5d68"
      },
      "source": [
        "The trip duration data is collected from the time period of first 6 months from the year 2016"
      ],
      "id": "704f5d68"
    },
    {
      "cell_type": "code",
      "execution_count": 165,
      "metadata": {
        "id": "9c258641"
      },
      "outputs": [],
      "source": [
        "# extracting more features from the datetime variable\n",
        "# For pick_up\n",
        "df['pickup_day']=df['pickup_datetime'].dt.day\n",
        "df['pickup_hour'] = df['pickup_datetime'].dt.hour\n",
        "df['pickup_weekday'] = df['pickup_datetime'].dt.weekday\n",
        "# for Drop_off\n",
        "df['dropoff_day'] = df['dropoff_datetime'].dt.day\n",
        "df['dropoff_hour'] = df['dropoff_datetime'].dt.hour\n",
        "df['dropoff_weekday'] = df['dropoff_datetime'].dt.weekday"
      ],
      "id": "9c258641"
    },
    {
      "cell_type": "code",
      "execution_count": 166,
      "metadata": {
        "colab": {
          "base_uri": "https://localhost:8080/",
          "height": 357
        },
        "id": "dc0eae36",
        "outputId": "78a3a3bb-e597-40db-a123-aa3da055aceb",
        "scrolled": true
      },
      "outputs": [
        {
          "output_type": "execute_result",
          "data": {
            "text/plain": [
              "          id vendor_id     pickup_datetime    dropoff_datetime  \\\n",
              "0  id1080784         2 2016-02-29 16:40:21 2016-02-29 16:47:01   \n",
              "1  id0889885         1 2016-03-11 23:35:37 2016-03-11 23:53:57   \n",
              "2  id0857912         2 2016-02-21 17:59:33 2016-02-21 18:26:48   \n",
              "3  id3744273         2 2016-01-05 09:44:31 2016-01-05 10:03:32   \n",
              "4  id0232939         1 2016-02-17 06:42:23 2016-02-17 06:56:31   \n",
              "\n",
              "   passenger_count  pickup_longitude  pickup_latitude  dropoff_longitude  \\\n",
              "0                1        -73.953918        40.778873         -73.963875   \n",
              "1                2        -73.988312        40.731743         -73.994751   \n",
              "2                2        -73.997314        40.721458         -73.948029   \n",
              "3                6        -73.961670        40.759720         -73.956779   \n",
              "4                1        -74.017120        40.708469         -73.988182   \n",
              "\n",
              "   dropoff_latitude store_and_fwd_flag  trip_duration  check_trip_duration  \\\n",
              "0         40.771164                  0          400.0                400.0   \n",
              "1         40.694931                  0         1100.0               1100.0   \n",
              "2         40.774918                  0         1635.0               1635.0   \n",
              "3         40.780628                  0         1141.0               1141.0   \n",
              "4         40.740631                  0          848.0                848.0   \n",
              "\n",
              "   pickup_day  pickup_hour  pickup_weekday  dropoff_day  dropoff_hour  \\\n",
              "0          29           16               0           29            16   \n",
              "1          11           23               4           11            23   \n",
              "2          21           17               6           21            18   \n",
              "3           5            9               1            5            10   \n",
              "4          17            6               2           17             6   \n",
              "\n",
              "   dropoff_weekday  \n",
              "0                0  \n",
              "1                4  \n",
              "2                6  \n",
              "3                1  \n",
              "4                2  "
            ],
            "text/html": [
              "\n",
              "  <div id=\"df-7af48de1-0fc3-4d4d-b399-3eeb3e5dd9f1\">\n",
              "    <div class=\"colab-df-container\">\n",
              "      <div>\n",
              "<style scoped>\n",
              "    .dataframe tbody tr th:only-of-type {\n",
              "        vertical-align: middle;\n",
              "    }\n",
              "\n",
              "    .dataframe tbody tr th {\n",
              "        vertical-align: top;\n",
              "    }\n",
              "\n",
              "    .dataframe thead th {\n",
              "        text-align: right;\n",
              "    }\n",
              "</style>\n",
              "<table border=\"1\" class=\"dataframe\">\n",
              "  <thead>\n",
              "    <tr style=\"text-align: right;\">\n",
              "      <th></th>\n",
              "      <th>id</th>\n",
              "      <th>vendor_id</th>\n",
              "      <th>pickup_datetime</th>\n",
              "      <th>dropoff_datetime</th>\n",
              "      <th>passenger_count</th>\n",
              "      <th>pickup_longitude</th>\n",
              "      <th>pickup_latitude</th>\n",
              "      <th>dropoff_longitude</th>\n",
              "      <th>dropoff_latitude</th>\n",
              "      <th>store_and_fwd_flag</th>\n",
              "      <th>trip_duration</th>\n",
              "      <th>check_trip_duration</th>\n",
              "      <th>pickup_day</th>\n",
              "      <th>pickup_hour</th>\n",
              "      <th>pickup_weekday</th>\n",
              "      <th>dropoff_day</th>\n",
              "      <th>dropoff_hour</th>\n",
              "      <th>dropoff_weekday</th>\n",
              "    </tr>\n",
              "  </thead>\n",
              "  <tbody>\n",
              "    <tr>\n",
              "      <th>0</th>\n",
              "      <td>id1080784</td>\n",
              "      <td>2</td>\n",
              "      <td>2016-02-29 16:40:21</td>\n",
              "      <td>2016-02-29 16:47:01</td>\n",
              "      <td>1</td>\n",
              "      <td>-73.953918</td>\n",
              "      <td>40.778873</td>\n",
              "      <td>-73.963875</td>\n",
              "      <td>40.771164</td>\n",
              "      <td>0</td>\n",
              "      <td>400.0</td>\n",
              "      <td>400.0</td>\n",
              "      <td>29</td>\n",
              "      <td>16</td>\n",
              "      <td>0</td>\n",
              "      <td>29</td>\n",
              "      <td>16</td>\n",
              "      <td>0</td>\n",
              "    </tr>\n",
              "    <tr>\n",
              "      <th>1</th>\n",
              "      <td>id0889885</td>\n",
              "      <td>1</td>\n",
              "      <td>2016-03-11 23:35:37</td>\n",
              "      <td>2016-03-11 23:53:57</td>\n",
              "      <td>2</td>\n",
              "      <td>-73.988312</td>\n",
              "      <td>40.731743</td>\n",
              "      <td>-73.994751</td>\n",
              "      <td>40.694931</td>\n",
              "      <td>0</td>\n",
              "      <td>1100.0</td>\n",
              "      <td>1100.0</td>\n",
              "      <td>11</td>\n",
              "      <td>23</td>\n",
              "      <td>4</td>\n",
              "      <td>11</td>\n",
              "      <td>23</td>\n",
              "      <td>4</td>\n",
              "    </tr>\n",
              "    <tr>\n",
              "      <th>2</th>\n",
              "      <td>id0857912</td>\n",
              "      <td>2</td>\n",
              "      <td>2016-02-21 17:59:33</td>\n",
              "      <td>2016-02-21 18:26:48</td>\n",
              "      <td>2</td>\n",
              "      <td>-73.997314</td>\n",
              "      <td>40.721458</td>\n",
              "      <td>-73.948029</td>\n",
              "      <td>40.774918</td>\n",
              "      <td>0</td>\n",
              "      <td>1635.0</td>\n",
              "      <td>1635.0</td>\n",
              "      <td>21</td>\n",
              "      <td>17</td>\n",
              "      <td>6</td>\n",
              "      <td>21</td>\n",
              "      <td>18</td>\n",
              "      <td>6</td>\n",
              "    </tr>\n",
              "    <tr>\n",
              "      <th>3</th>\n",
              "      <td>id3744273</td>\n",
              "      <td>2</td>\n",
              "      <td>2016-01-05 09:44:31</td>\n",
              "      <td>2016-01-05 10:03:32</td>\n",
              "      <td>6</td>\n",
              "      <td>-73.961670</td>\n",
              "      <td>40.759720</td>\n",
              "      <td>-73.956779</td>\n",
              "      <td>40.780628</td>\n",
              "      <td>0</td>\n",
              "      <td>1141.0</td>\n",
              "      <td>1141.0</td>\n",
              "      <td>5</td>\n",
              "      <td>9</td>\n",
              "      <td>1</td>\n",
              "      <td>5</td>\n",
              "      <td>10</td>\n",
              "      <td>1</td>\n",
              "    </tr>\n",
              "    <tr>\n",
              "      <th>4</th>\n",
              "      <td>id0232939</td>\n",
              "      <td>1</td>\n",
              "      <td>2016-02-17 06:42:23</td>\n",
              "      <td>2016-02-17 06:56:31</td>\n",
              "      <td>1</td>\n",
              "      <td>-74.017120</td>\n",
              "      <td>40.708469</td>\n",
              "      <td>-73.988182</td>\n",
              "      <td>40.740631</td>\n",
              "      <td>0</td>\n",
              "      <td>848.0</td>\n",
              "      <td>848.0</td>\n",
              "      <td>17</td>\n",
              "      <td>6</td>\n",
              "      <td>2</td>\n",
              "      <td>17</td>\n",
              "      <td>6</td>\n",
              "      <td>2</td>\n",
              "    </tr>\n",
              "  </tbody>\n",
              "</table>\n",
              "</div>\n",
              "      <button class=\"colab-df-convert\" onclick=\"convertToInteractive('df-7af48de1-0fc3-4d4d-b399-3eeb3e5dd9f1')\"\n",
              "              title=\"Convert this dataframe to an interactive table.\"\n",
              "              style=\"display:none;\">\n",
              "        \n",
              "  <svg xmlns=\"http://www.w3.org/2000/svg\" height=\"24px\"viewBox=\"0 0 24 24\"\n",
              "       width=\"24px\">\n",
              "    <path d=\"M0 0h24v24H0V0z\" fill=\"none\"/>\n",
              "    <path d=\"M18.56 5.44l.94 2.06.94-2.06 2.06-.94-2.06-.94-.94-2.06-.94 2.06-2.06.94zm-11 1L8.5 8.5l.94-2.06 2.06-.94-2.06-.94L8.5 2.5l-.94 2.06-2.06.94zm10 10l.94 2.06.94-2.06 2.06-.94-2.06-.94-.94-2.06-.94 2.06-2.06.94z\"/><path d=\"M17.41 7.96l-1.37-1.37c-.4-.4-.92-.59-1.43-.59-.52 0-1.04.2-1.43.59L10.3 9.45l-7.72 7.72c-.78.78-.78 2.05 0 2.83L4 21.41c.39.39.9.59 1.41.59.51 0 1.02-.2 1.41-.59l7.78-7.78 2.81-2.81c.8-.78.8-2.07 0-2.86zM5.41 20L4 18.59l7.72-7.72 1.47 1.35L5.41 20z\"/>\n",
              "  </svg>\n",
              "      </button>\n",
              "      \n",
              "  <style>\n",
              "    .colab-df-container {\n",
              "      display:flex;\n",
              "      flex-wrap:wrap;\n",
              "      gap: 12px;\n",
              "    }\n",
              "\n",
              "    .colab-df-convert {\n",
              "      background-color: #E8F0FE;\n",
              "      border: none;\n",
              "      border-radius: 50%;\n",
              "      cursor: pointer;\n",
              "      display: none;\n",
              "      fill: #1967D2;\n",
              "      height: 32px;\n",
              "      padding: 0 0 0 0;\n",
              "      width: 32px;\n",
              "    }\n",
              "\n",
              "    .colab-df-convert:hover {\n",
              "      background-color: #E2EBFA;\n",
              "      box-shadow: 0px 1px 2px rgba(60, 64, 67, 0.3), 0px 1px 3px 1px rgba(60, 64, 67, 0.15);\n",
              "      fill: #174EA6;\n",
              "    }\n",
              "\n",
              "    [theme=dark] .colab-df-convert {\n",
              "      background-color: #3B4455;\n",
              "      fill: #D2E3FC;\n",
              "    }\n",
              "\n",
              "    [theme=dark] .colab-df-convert:hover {\n",
              "      background-color: #434B5C;\n",
              "      box-shadow: 0px 1px 3px 1px rgba(0, 0, 0, 0.15);\n",
              "      filter: drop-shadow(0px 1px 2px rgba(0, 0, 0, 0.3));\n",
              "      fill: #FFFFFF;\n",
              "    }\n",
              "  </style>\n",
              "\n",
              "      <script>\n",
              "        const buttonEl =\n",
              "          document.querySelector('#df-7af48de1-0fc3-4d4d-b399-3eeb3e5dd9f1 button.colab-df-convert');\n",
              "        buttonEl.style.display =\n",
              "          google.colab.kernel.accessAllowed ? 'block' : 'none';\n",
              "\n",
              "        async function convertToInteractive(key) {\n",
              "          const element = document.querySelector('#df-7af48de1-0fc3-4d4d-b399-3eeb3e5dd9f1');\n",
              "          const dataTable =\n",
              "            await google.colab.kernel.invokeFunction('convertToInteractive',\n",
              "                                                     [key], {});\n",
              "          if (!dataTable) return;\n",
              "\n",
              "          const docLinkHtml = 'Like what you see? Visit the ' +\n",
              "            '<a target=\"_blank\" href=https://colab.research.google.com/notebooks/data_table.ipynb>data table notebook</a>'\n",
              "            + ' to learn more about interactive tables.';\n",
              "          element.innerHTML = '';\n",
              "          dataTable['output_type'] = 'display_data';\n",
              "          await google.colab.output.renderOutput(dataTable, element);\n",
              "          const docLink = document.createElement('div');\n",
              "          docLink.innerHTML = docLinkHtml;\n",
              "          element.appendChild(docLink);\n",
              "        }\n",
              "      </script>\n",
              "    </div>\n",
              "  </div>\n",
              "  "
            ]
          },
          "metadata": {},
          "execution_count": 166
        }
      ],
      "source": [
        "df.head()"
      ],
      "id": "dc0eae36"
    },
    {
      "cell_type": "markdown",
      "metadata": {
        "id": "0c31fdf5"
      },
      "source": [
        "### Univariate Visualization"
      ],
      "id": "0c31fdf5"
    },
    {
      "cell_type": "code",
      "execution_count": 167,
      "metadata": {
        "colab": {
          "base_uri": "https://localhost:8080/",
          "height": 0
        },
        "id": "217573d2",
        "outputId": "26810622-b817-47b0-ed70-040874e03bd5"
      },
      "outputs": [
        {
          "output_type": "execute_result",
          "data": {
            "text/plain": [
              "Text(0, 0.5, 'Total Number of pickups')"
            ]
          },
          "metadata": {},
          "execution_count": 167
        },
        {
          "output_type": "display_data",
          "data": {
            "text/plain": [
              "<Figure size 1440x360 with 3 Axes>"
            ],
            "image/png": "[encoded data removed]"
          },
          "metadata": {}
        }
      ],
      "source": [
        "# Datetime features\n",
        "plt.figure(figsize=(20, 5))\n",
        "\n",
        "# Passenger Count\n",
        "plt.subplot(141)\n",
        "sns.countplot(df['pickup_day'])\n",
        "plt.xlabel('Day')\n",
        "plt.ylabel('Total Number of pickups')\n",
        "\n",
        "# vendor_id\n",
        "plt.subplot(142)\n",
        "sns.countplot(df['pickup_hour'])\n",
        "plt.xlabel('Hour of Day')\n",
        "plt.ylabel('Total number of pickups')\n",
        "\n",
        "# Passenger Count\n",
        "plt.subplot(143)\n",
        "sns.countplot(df['pickup_weekday'])\n",
        "plt.xlabel('Week Day')\n",
        "plt.ylabel('Total Number of pickups')"
      ],
      "id": "217573d2"
    },
    {
      "cell_type": "markdown",
      "metadata": {
        "id": "3451a7b0"
      },
      "source": [
        "* Trips are very low in early morning, while very high in the late evening hour in the day.\n",
        "* Trip is on peak on Thursday(4).\n",
        "* Trips are very low in early morning, while very high in the late evening hour in the day."
      ],
      "id": "3451a7b0"
    },
    {
      "cell_type": "code",
      "execution_count": 168,
      "metadata": {
        "colab": {
          "base_uri": "https://localhost:8080/",
          "height": 0
        },
        "id": "f2a5f6fe",
        "outputId": "fa90d8f8-cd4c-4eda-c40c-fe214c513f83"
      },
      "outputs": [
        {
          "output_type": "execute_result",
          "data": {
            "text/plain": [
              "Text(0, 0.5, 'Frequency')"
            ]
          },
          "metadata": {},
          "execution_count": 168
        },
        {
          "output_type": "display_data",
          "data": {
            "text/plain": [
              "<Figure size 1584x432 with 3 Axes>"
            ],
            "image/png": "[encoded data removed]"
          },
          "metadata": {}
        }
      ],
      "source": [
        "# Binary Features\n",
        "plt.figure(figsize=(22, 6))\n",
        "#fig, axs = plt.subplot(ncols=2)\n",
        "\n",
        "# Passenger Count\n",
        "plt.subplot(131)\n",
        "sns.countplot(df['passenger_count'])\n",
        "plt.xlabel('Passenger Count')\n",
        "plt.ylabel('Frequency')\n",
        "\n",
        "\n",
        "# vendor_id\n",
        "plt.subplot(132)\n",
        "sns.countplot(df['vendor_id'])\n",
        "plt.xlabel('vendor_id')\n",
        "plt.ylabel('Frequency')\n",
        "\n",
        "# store_and_fwd_flag\n",
        "plt.subplot(133)\n",
        "sns.countplot(df['store_and_fwd_flag'])\n",
        "plt.xlabel('store_and_fwd_flag')\n",
        "plt.ylabel('Frequency')"
      ],
      "id": "f2a5f6fe"
    },
    {
      "cell_type": "markdown",
      "metadata": {
        "id": "79f4734c"
      },
      "source": [
        "* Most of the trips involve only 1 passenger.\n",
        "* Vendor 2 has more trips, compared to vendor 1.\n",
        "* The value with 1 is very low in the store_and_fwd_flag variable. This suggests that almost no storing took place."
      ],
      "id": "79f4734c"
    },
    {
      "cell_type": "markdown",
      "metadata": {
        "id": "3021602d"
      },
      "source": [
        "**Feature engineering for passenger_count**"
      ],
      "id": "3021602d"
    },
    {
      "cell_type": "code",
      "execution_count": 169,
      "metadata": {
        "colab": {
          "base_uri": "https://localhost:8080/"
        },
        "id": "28b08aa9",
        "outputId": "8e611e84-c7e8-4245-f106-1658554d288b"
      },
      "outputs": [
        {
          "output_type": "execute_result",
          "data": {
            "text/plain": [
              "1    316648\n",
              "2     64387\n",
              "5     23770\n",
              "3     18184\n",
              "6     14748\n",
              "4      8694\n",
              "0        22\n",
              "7         1\n",
              "Name: passenger_count, dtype: int64"
            ]
          },
          "metadata": {},
          "execution_count": 169
        }
      ],
      "source": [
        "df['passenger_count'].value_counts()"
      ],
      "id": "28b08aa9"
    },
    {
      "cell_type": "markdown",
      "metadata": {
        "id": "9a9e0c07"
      },
      "source": [
        "Here as we can see that 0 and 9 are very less in number so we will remove it."
      ],
      "id": "9a9e0c07"
    },
    {
      "cell_type": "code",
      "execution_count": 170,
      "metadata": {
        "id": "2317c134"
      },
      "outputs": [],
      "source": [
        "df=df[df['passenger_count']!=0]\n",
        "df=df[df['passenger_count']<=6]"
      ],
      "id": "2317c134"
    },
    {
      "cell_type": "code",
      "execution_count": 171,
      "metadata": {
        "colab": {
          "base_uri": "https://localhost:8080/"
        },
        "id": "a6423105",
        "outputId": "99746e0b-2930-4ba9-b0f0-67bd837b0520"
      },
      "outputs": [
        {
          "output_type": "execute_result",
          "data": {
            "text/plain": [
              "1    316648\n",
              "2     64387\n",
              "5     23770\n",
              "3     18184\n",
              "6     14748\n",
              "4      8694\n",
              "Name: passenger_count, dtype: int64"
            ]
          },
          "metadata": {},
          "execution_count": 171
        }
      ],
      "source": [
        "# checking\n",
        "df['passenger_count'].value_counts()"
      ],
      "id": "a6423105"
    },
    {
      "cell_type": "code",
      "execution_count": 172,
      "metadata": {
        "colab": {
          "base_uri": "https://localhost:8080/"
        },
        "id": "6b876f5c",
        "outputId": "282e571e-f400-4fd7-d2e5-a87c46ef9a73"
      },
      "outputs": [
        {
          "output_type": "execute_result",
          "data": {
            "text/plain": [
              "count    124.008333\n",
              "mean       0.264297\n",
              "std        1.178304\n",
              "min        0.000278\n",
              "25%        0.110278\n",
              "50%        0.184167\n",
              "75%        0.298611\n",
              "max      538.815556\n",
              "Name: trip_duration, dtype: float64"
            ]
          },
          "metadata": {},
          "execution_count": 172
        }
      ],
      "source": [
        "#Getting the summary of the trip_duration dataset\n",
        "df['trip_duration'].describe()/3600 # Trip duration in hours"
      ],
      "id": "6b876f5c"
    },
    {
      "cell_type": "markdown",
      "metadata": {
        "id": "ea398285"
      },
      "source": [
        "There is a trip with maximum duration of 538 hours. This is a huge outlier and might create problems at the prediction stage. One idea is to log transform this feature."
      ],
      "id": "ea398285"
    },
    {
      "cell_type": "code",
      "execution_count": 173,
      "metadata": {
        "colab": {
          "base_uri": "https://localhost:8080/",
          "height": 0
        },
        "id": "dccf112a",
        "outputId": "34e43a3d-88f3-453a-ba14-7842cf888f4d"
      },
      "outputs": [
        {
          "output_type": "display_data",
          "data": {
            "text/plain": [
              "<Figure size 432x288 with 1 Axes>"
            ],
            "image/png": "[encoded data removed]"
          },
          "metadata": {}
        }
      ],
      "source": [
        "df['log_trip_duration'] = np.log(df['trip_duration'].values + 1)\n",
        "sns.distplot(df['log_trip_duration'], kde = False, bins = 200)\n",
        "plt.show()"
      ],
      "id": "dccf112a"
    },
    {
      "cell_type": "markdown",
      "metadata": {
        "id": "c44b1b43"
      },
      "source": [
        "We find:\n",
        "\n",
        "1. The majority of rides follow a rather smooth distribution that looks almost log-normal with a peak just around exp(6.5)  i.e. about 17 minutes.\n",
        "2. There are several suspiciously short rides with less than 10 seconds duration.\n",
        "3. As discussed earlier, there are a few huge outliers near 12."
      ],
      "id": "c44b1b43"
    },
    {
      "cell_type": "code",
      "execution_count": 174,
      "metadata": {
        "colab": {
          "base_uri": "https://localhost:8080/",
          "height": 0
        },
        "id": "cbcbe860",
        "outputId": "b3d4a158-a0f3-486c-bcf6-3ecad50e359e"
      },
      "outputs": [
        {
          "output_type": "execute_result",
          "data": {
            "text/plain": [
              "          id vendor_id     pickup_datetime    dropoff_datetime  \\\n",
              "0  id1080784         2 2016-02-29 16:40:21 2016-02-29 16:47:01   \n",
              "1  id0889885         1 2016-03-11 23:35:37 2016-03-11 23:53:57   \n",
              "2  id0857912         2 2016-02-21 17:59:33 2016-02-21 18:26:48   \n",
              "3  id3744273         2 2016-01-05 09:44:31 2016-01-05 10:03:32   \n",
              "4  id0232939         1 2016-02-17 06:42:23 2016-02-17 06:56:31   \n",
              "\n",
              "   passenger_count  pickup_longitude  pickup_latitude  dropoff_longitude  \\\n",
              "0                1        -73.953918        40.778873         -73.963875   \n",
              "1                2        -73.988312        40.731743         -73.994751   \n",
              "2                2        -73.997314        40.721458         -73.948029   \n",
              "3                6        -73.961670        40.759720         -73.956779   \n",
              "4                1        -74.017120        40.708469         -73.988182   \n",
              "\n",
              "   dropoff_latitude store_and_fwd_flag  trip_duration  check_trip_duration  \\\n",
              "0         40.771164                  0          400.0                400.0   \n",
              "1         40.694931                  0         1100.0               1100.0   \n",
              "2         40.774918                  0         1635.0               1635.0   \n",
              "3         40.780628                  0         1141.0               1141.0   \n",
              "4         40.740631                  0          848.0                848.0   \n",
              "\n",
              "   pickup_day  pickup_hour  pickup_weekday  dropoff_day  dropoff_hour  \\\n",
              "0          29           16               0           29            16   \n",
              "1          11           23               4           11            23   \n",
              "2          21           17               6           21            18   \n",
              "3           5            9               1            5            10   \n",
              "4          17            6               2           17             6   \n",
              "\n",
              "   dropoff_weekday  log_trip_duration  \n",
              "0                0           5.993961  \n",
              "1                4           7.003974  \n",
              "2                6           7.400010  \n",
              "3                1           7.040536  \n",
              "4                2           6.744059  "
            ],
            "text/html": [
              "\n",
              "  <div id=\"df-687fe939-5959-4bac-8e1a-6e235e46dcb6\">\n",
              "    <div class=\"colab-df-container\">\n",
              "      <div>\n",
              "<style scoped>\n",
              "    .dataframe tbody tr th:only-of-type {\n",
              "        vertical-align: middle;\n",
              "    }\n",
              "\n",
              "    .dataframe tbody tr th {\n",
              "        vertical-align: top;\n",
              "    }\n",
              "\n",
              "    .dataframe thead th {\n",
              "        text-align: right;\n",
              "    }\n",
              "</style>\n",
              "<table border=\"1\" class=\"dataframe\">\n",
              "  <thead>\n",
              "    <tr style=\"text-align: right;\">\n",
              "      <th></th>\n",
              "      <th>id</th>\n",
              "      <th>vendor_id</th>\n",
              "      <th>pickup_datetime</th>\n",
              "      <th>dropoff_datetime</th>\n",
              "      <th>passenger_count</th>\n",
              "      <th>pickup_longitude</th>\n",
              "      <th>pickup_latitude</th>\n",
              "      <th>dropoff_longitude</th>\n",
              "      <th>dropoff_latitude</th>\n",
              "      <th>store_and_fwd_flag</th>\n",
              "      <th>trip_duration</th>\n",
              "      <th>check_trip_duration</th>\n",
              "      <th>pickup_day</th>\n",
              "      <th>pickup_hour</th>\n",
              "      <th>pickup_weekday</th>\n",
              "      <th>dropoff_day</th>\n",
              "      <th>dropoff_hour</th>\n",
              "      <th>dropoff_weekday</th>\n",
              "      <th>log_trip_duration</th>\n",
              "    </tr>\n",
              "  </thead>\n",
              "  <tbody>\n",
              "    <tr>\n",
              "      <th>0</th>\n",
              "      <td>id1080784</td>\n",
              "      <td>2</td>\n",
              "      <td>2016-02-29 16:40:21</td>\n",
              "      <td>2016-02-29 16:47:01</td>\n",
              "      <td>1</td>\n",
              "      <td>-73.953918</td>\n",
              "      <td>40.778873</td>\n",
              "      <td>-73.963875</td>\n",
              "      <td>40.771164</td>\n",
              "      <td>0</td>\n",
              "      <td>400.0</td>\n",
              "      <td>400.0</td>\n",
              "      <td>29</td>\n",
              "      <td>16</td>\n",
              "      <td>0</td>\n",
              "      <td>29</td>\n",
              "      <td>16</td>\n",
              "      <td>0</td>\n",
              "      <td>5.993961</td>\n",
              "    </tr>\n",
              "    <tr>\n",
              "      <th>1</th>\n",
              "      <td>id0889885</td>\n",
              "      <td>1</td>\n",
              "      <td>2016-03-11 23:35:37</td>\n",
              "      <td>2016-03-11 23:53:57</td>\n",
              "      <td>2</td>\n",
              "      <td>-73.988312</td>\n",
              "      <td>40.731743</td>\n",
              "      <td>-73.994751</td>\n",
              "      <td>40.694931</td>\n",
              "      <td>0</td>\n",
              "      <td>1100.0</td>\n",
              "      <td>1100.0</td>\n",
              "      <td>11</td>\n",
              "      <td>23</td>\n",
              "      <td>4</td>\n",
              "      <td>11</td>\n",
              "      <td>23</td>\n",
              "      <td>4</td>\n",
              "      <td>7.003974</td>\n",
              "    </tr>\n",
              "    <tr>\n",
              "      <th>2</th>\n",
              "      <td>id0857912</td>\n",
              "      <td>2</td>\n",
              "      <td>2016-02-21 17:59:33</td>\n",
              "      <td>2016-02-21 18:26:48</td>\n",
              "      <td>2</td>\n",
              "      <td>-73.997314</td>\n",
              "      <td>40.721458</td>\n",
              "      <td>-73.948029</td>\n",
              "      <td>40.774918</td>\n",
              "      <td>0</td>\n",
              "      <td>1635.0</td>\n",
              "      <td>1635.0</td>\n",
              "      <td>21</td>\n",
              "      <td>17</td>\n",
              "      <td>6</td>\n",
              "      <td>21</td>\n",
              "      <td>18</td>\n",
              "      <td>6</td>\n",
              "      <td>7.400010</td>\n",
              "    </tr>\n",
              "    <tr>\n",
              "      <th>3</th>\n",
              "      <td>id3744273</td>\n",
              "      <td>2</td>\n",
              "      <td>2016-01-05 09:44:31</td>\n",
              "      <td>2016-01-05 10:03:32</td>\n",
              "      <td>6</td>\n",
              "      <td>-73.961670</td>\n",
              "      <td>40.759720</td>\n",
              "      <td>-73.956779</td>\n",
              "      <td>40.780628</td>\n",
              "      <td>0</td>\n",
              "      <td>1141.0</td>\n",
              "      <td>1141.0</td>\n",
              "      <td>5</td>\n",
              "      <td>9</td>\n",
              "      <td>1</td>\n",
              "      <td>5</td>\n",
              "      <td>10</td>\n",
              "      <td>1</td>\n",
              "      <td>7.040536</td>\n",
              "    </tr>\n",
              "    <tr>\n",
              "      <th>4</th>\n",
              "      <td>id0232939</td>\n",
              "      <td>1</td>\n",
              "      <td>2016-02-17 06:42:23</td>\n",
              "      <td>2016-02-17 06:56:31</td>\n",
              "      <td>1</td>\n",
              "      <td>-74.017120</td>\n",
              "      <td>40.708469</td>\n",
              "      <td>-73.988182</td>\n",
              "      <td>40.740631</td>\n",
              "      <td>0</td>\n",
              "      <td>848.0</td>\n",
              "      <td>848.0</td>\n",
              "      <td>17</td>\n",
              "      <td>6</td>\n",
              "      <td>2</td>\n",
              "      <td>17</td>\n",
              "      <td>6</td>\n",
              "      <td>2</td>\n",
              "      <td>6.744059</td>\n",
              "    </tr>\n",
              "  </tbody>\n",
              "</table>\n",
              "</div>\n",
              "      <button class=\"colab-df-convert\" onclick=\"convertToInteractive('df-687fe939-5959-4bac-8e1a-6e235e46dcb6')\"\n",
              "              title=\"Convert this dataframe to an interactive table.\"\n",
              "              style=\"display:none;\">\n",
              "        \n",
              "  <svg xmlns=\"http://www.w3.org/2000/svg\" height=\"24px\"viewBox=\"0 0 24 24\"\n",
              "       width=\"24px\">\n",
              "    <path d=\"M0 0h24v24H0V0z\" fill=\"none\"/>\n",
              "    <path d=\"M18.56 5.44l.94 2.06.94-2.06 2.06-.94-2.06-.94-.94-2.06-.94 2.06-2.06.94zm-11 1L8.5 8.5l.94-2.06 2.06-.94-2.06-.94L8.5 2.5l-.94 2.06-2.06.94zm10 10l.94 2.06.94-2.06 2.06-.94-2.06-.94-.94-2.06-.94 2.06-2.06.94z\"/><path d=\"M17.41 7.96l-1.37-1.37c-.4-.4-.92-.59-1.43-.59-.52 0-1.04.2-1.43.59L10.3 9.45l-7.72 7.72c-.78.78-.78 2.05 0 2.83L4 21.41c.39.39.9.59 1.41.59.51 0 1.02-.2 1.41-.59l7.78-7.78 2.81-2.81c.8-.78.8-2.07 0-2.86zM5.41 20L4 18.59l7.72-7.72 1.47 1.35L5.41 20z\"/>\n",
              "  </svg>\n",
              "      </button>\n",
              "      \n",
              "  <style>\n",
              "    .colab-df-container {\n",
              "      display:flex;\n",
              "      flex-wrap:wrap;\n",
              "      gap: 12px;\n",
              "    }\n",
              "\n",
              "    .colab-df-convert {\n",
              "      background-color: #E8F0FE;\n",
              "      border: none;\n",
              "      border-radius: 50%;\n",
              "      cursor: pointer;\n",
              "      display: none;\n",
              "      fill: #1967D2;\n",
              "      height: 32px;\n",
              "      padding: 0 0 0 0;\n",
              "      width: 32px;\n",
              "    }\n",
              "\n",
              "    .colab-df-convert:hover {\n",
              "      background-color: #E2EBFA;\n",
              "      box-shadow: 0px 1px 2px rgba(60, 64, 67, 0.3), 0px 1px 3px 1px rgba(60, 64, 67, 0.15);\n",
              "      fill: #174EA6;\n",
              "    }\n",
              "\n",
              "    [theme=dark] .colab-df-convert {\n",
              "      background-color: #3B4455;\n",
              "      fill: #D2E3FC;\n",
              "    }\n",
              "\n",
              "    [theme=dark] .colab-df-convert:hover {\n",
              "      background-color: #434B5C;\n",
              "      box-shadow: 0px 1px 3px 1px rgba(0, 0, 0, 0.15);\n",
              "      filter: drop-shadow(0px 1px 2px rgba(0, 0, 0, 0.3));\n",
              "      fill: #FFFFFF;\n",
              "    }\n",
              "  </style>\n",
              "\n",
              "      <script>\n",
              "        const buttonEl =\n",
              "          document.querySelector('#df-687fe939-5959-4bac-8e1a-6e235e46dcb6 button.colab-df-convert');\n",
              "        buttonEl.style.display =\n",
              "          google.colab.kernel.accessAllowed ? 'block' : 'none';\n",
              "\n",
              "        async function convertToInteractive(key) {\n",
              "          const element = document.querySelector('#df-687fe939-5959-4bac-8e1a-6e235e46dcb6');\n",
              "          const dataTable =\n",
              "            await google.colab.kernel.invokeFunction('convertToInteractive',\n",
              "                                                     [key], {});\n",
              "          if (!dataTable) return;\n",
              "\n",
              "          const docLinkHtml = 'Like what you see? Visit the ' +\n",
              "            '<a target=\"_blank\" href=https://colab.research.google.com/notebooks/data_table.ipynb>data table notebook</a>'\n",
              "            + ' to learn more about interactive tables.';\n",
              "          element.innerHTML = '';\n",
              "          dataTable['output_type'] = 'display_data';\n",
              "          await google.colab.output.renderOutput(dataTable, element);\n",
              "          const docLink = document.createElement('div');\n",
              "          docLink.innerHTML = docLinkHtml;\n",
              "          element.appendChild(docLink);\n",
              "        }\n",
              "      </script>\n",
              "    </div>\n",
              "  </div>\n",
              "  "
            ]
          },
          "metadata": {},
          "execution_count": 174
        }
      ],
      "source": [
        "df.head()"
      ],
      "id": "cbcbe860"
    },
    {
      "cell_type": "code",
      "execution_count": 175,
      "metadata": {
        "colab": {
          "base_uri": "https://localhost:8080/"
        },
        "id": "a6e4b012",
        "outputId": "97009fac-9a9a-4408-df72-93b5c336a2e3"
      },
      "outputs": [
        {
          "output_type": "execute_result",
          "data": {
            "text/plain": [
              "(446431, 19)"
            ]
          },
          "metadata": {},
          "execution_count": 175
        }
      ],
      "source": [
        "df.shape"
      ],
      "id": "a6e4b012"
    },
    {
      "cell_type": "markdown",
      "metadata": {
        "id": "8ac66555"
      },
      "source": [
        "### Lattitude & Longitude\n",
        "Lets look at the geospatial or location features to check consistency. They should not vary much as we are only considering trips within New York city."
      ],
      "id": "8ac66555"
    },
    {
      "cell_type": "code",
      "execution_count": 176,
      "metadata": {
        "colab": {
          "base_uri": "https://localhost:8080/",
          "height": 725
        },
        "id": "700462be",
        "outputId": "9926271f-7b66-4991-8124-b7a280bef1c3"
      },
      "outputs": [
        {
          "output_type": "display_data",
          "data": {
            "text/plain": [
              "<Figure size 720x720 with 4 Axes>"
            ],
            "image/png": "[encoded data removed]"
          },
          "metadata": {}
        }
      ],
      "source": [
        "sns.set(style=\"white\", palette=\"muted\", color_codes=True)\n",
        "f, axes = plt.subplots(2,2,figsize=(10, 10), sharex=False, sharey = False)\n",
        "sns.despine(left=True)\n",
        "sns.distplot(df['pickup_latitude'].values, label = 'pickup_latitude',color=\"b\",bins = 100, ax=axes[0,0])\n",
        "sns.distplot(df['pickup_longitude'].values, label = 'pickup_longitude',color=\"r\",bins =100, ax=axes[1,0])\n",
        "sns.distplot(df['dropoff_latitude'].values, label = 'dropoff_latitude',color=\"b\",bins =100, ax=axes[0,1])\n",
        "sns.distplot(df['dropoff_longitude'].values, label = 'dropoff_longitude',color=\"r\",bins =100, ax=axes[1,1])\n",
        "plt.setp(axes, yticks=[])\n",
        "plt.tight_layout()\n",
        "plt.show()"
      ],
      "id": "700462be"
    },
    {
      "cell_type": "markdown",
      "metadata": {
        "id": "6137e532"
      },
      "source": [
        "Findings - (Here, red represents pickup and dropoff Longitudes & blue represents pickup & dropoff lattitudes)\n",
        "\n",
        "1. From the plot above it is clear that pick and drop latitude are centered around 40 to 41, and longitude are situated around -74 to -73. \n",
        "2. Some extreme co-ordinates has squeezed the plot such that we see a spike here\n",
        "3. A good idea is to remove these outliers and look at the distribution more closely"
      ],
      "id": "6137e532"
    },
    {
      "cell_type": "code",
      "execution_count": 177,
      "metadata": {
        "colab": {
          "base_uri": "https://localhost:8080/",
          "height": 725
        },
        "id": "8f486b15",
        "outputId": "90350082-0f8b-45e4-8ec2-851f2d9187da"
      },
      "outputs": [
        {
          "output_type": "display_data",
          "data": {
            "text/plain": [
              "<Figure size 720x720 with 4 Axes>"
            ],
            "image/png": "[encoded data removed]"
          },
          "metadata": {}
        }
      ],
      "source": [
        "df = df.loc[(df.pickup_latitude > 40.6) & (df.pickup_latitude < 40.9)]\n",
        "df = df.loc[(df.dropoff_latitude>40.6) & (df.dropoff_latitude < 40.9)]\n",
        "df = df.loc[(df.dropoff_longitude > -74.05) & (df.dropoff_longitude < -73.7)]\n",
        "df = df.loc[(df.pickup_longitude > -74.05) & (df.pickup_longitude < -73.7)]\n",
        "df_data_new = df.copy()\n",
        "sns.set(style=\"white\", palette=\"muted\", color_codes=True)\n",
        "f, axes = plt.subplots(2,2,figsize=(10, 10), sharex=False, sharey = False)#\n",
        "sns.despine(left=True)\n",
        "sns.distplot(df_data_new['pickup_latitude'].values, label = 'pickup_latitude',color=\"b\",bins = 100, ax=axes[0,0])\n",
        "sns.distplot(df_data_new['pickup_longitude'].values, label = 'pickup_longitude',color=\"r\",bins =100, ax=axes[0,1])\n",
        "sns.distplot(df_data_new['dropoff_latitude'].values, label = 'dropoff_latitude',color=\"b\",bins =100, ax=axes[1, 0])\n",
        "sns.distplot(df_data_new['dropoff_longitude'].values, label = 'dropoff_longitude',color=\"r\",bins =100, ax=axes[1, 1])\n",
        "plt.setp(axes, yticks=[])\n",
        "plt.tight_layout()\n",
        "\n",
        "plt.show()"
      ],
      "id": "8f486b15"
    },
    {
      "cell_type": "markdown",
      "metadata": {
        "id": "cac2a5a5"
      },
      "source": [
        "* We have a much better view of the distribution of coordinates instead of spikes. And we see that most trips are concentrated between these lat long only with a few significant clusters.\n",
        "* These clusters are represented by the numerous peaks in the lattitude and longitude histograms\n"
      ],
      "id": "cac2a5a5"
    },
    {
      "cell_type": "markdown",
      "metadata": {
        "id": "cfcd49d4"
      },
      "source": [
        "### Bivariate Relations with Target"
      ],
      "id": "cfcd49d4"
    },
    {
      "cell_type": "code",
      "execution_count": 178,
      "metadata": {
        "colab": {
          "base_uri": "https://localhost:8080/"
        },
        "id": "5bd66db5",
        "outputId": "7602a0ae-862d-42de-b355-b7530e5156ce"
      },
      "outputs": [
        {
          "output_type": "execute_result",
          "data": {
            "text/plain": [
              "Index(['id', 'vendor_id', 'pickup_datetime', 'dropoff_datetime',\n",
              "       'passenger_count', 'pickup_longitude', 'pickup_latitude',\n",
              "       'dropoff_longitude', 'dropoff_latitude', 'store_and_fwd_flag',\n",
              "       'trip_duration', 'check_trip_duration', 'pickup_day', 'pickup_hour',\n",
              "       'pickup_weekday', 'dropoff_day', 'dropoff_hour', 'dropoff_weekday',\n",
              "       'log_trip_duration'],\n",
              "      dtype='object')"
            ]
          },
          "metadata": {},
          "execution_count": 178
        }
      ],
      "source": [
        "df.columns"
      ],
      "id": "5bd66db5"
    },
    {
      "cell_type": "markdown",
      "metadata": {
        "id": "2bf59140"
      },
      "source": [
        "### Trip Duration vs Vendor Id"
      ],
      "id": "2bf59140"
    },
    {
      "cell_type": "code",
      "execution_count": 179,
      "metadata": {
        "colab": {
          "base_uri": "https://localhost:8080/",
          "height": 0
        },
        "id": "2252bd28",
        "outputId": "cc612da1-29c5-43a2-d7aa-85134fe2fced"
      },
      "outputs": [
        {
          "output_type": "display_data",
          "data": {
            "text/plain": [
              "<Figure size 432x288 with 1 Axes>"
            ],
            "image/png": "[encoded data removed]"
          },
          "metadata": {}
        }
      ],
      "source": [
        "sns.barplot(x=\"vendor_id\", y=\"trip_duration\",data=df);\n",
        "plt.title(\"Average Trip Duration (In seconds)\");\n",
        "plt.xlabel(\"Vendor Id\");\n",
        "plt.ylabel(\"Trip Duration\");"
      ],
      "id": "2252bd28"
    },
    {
      "cell_type": "markdown",
      "metadata": {
        "id": "c3bd2a90"
      },
      "source": [
        "* The average trip duration of vendor 2 is greater than vendor 1"
      ],
      "id": "c3bd2a90"
    },
    {
      "cell_type": "markdown",
      "metadata": {
        "id": "d04438f1"
      },
      "source": [
        "### Correlation Heatmap\n",
        "\n",
        "Let us quickly look at the correlation heatmap to check the correlations amongst all features."
      ],
      "id": "d04438f1"
    },
    {
      "cell_type": "code",
      "execution_count": 180,
      "metadata": {
        "id": "1c280e14"
      },
      "outputs": [],
      "source": [
        "df1 = df.drop(columns=['id', 'pickup_datetime', 'dropoff_datetime', 'pickup_longitude','pickup_latitude',\n",
        "                       'dropoff_longitude','dropoff_latitude','trip_duration'])"
      ],
      "id": "1c280e14"
    },
    {
      "cell_type": "code",
      "execution_count": 181,
      "metadata": {
        "colab": {
          "base_uri": "https://localhost:8080/",
          "height": 0
        },
        "id": "c32a300c",
        "outputId": "0540cb4e-3293-448a-f32a-4d331e5d73d6",
        "scrolled": true
      },
      "outputs": [
        {
          "output_type": "display_data",
          "data": {
            "text/plain": [
              "<Figure size 864x432 with 2 Axes>"
            ],
            "image/png": "[encoded data removed]"
          },
          "metadata": {}
        }
      ],
      "source": [
        "# checking the correlation among all features\n",
        "plt.figure(figsize=(12, 6))\n",
        "corr = df1.apply(lambda x: pd.factorize(x)[0]).corr()\n",
        "#corr = df1.corr()\n",
        "ax = sns.heatmap(corr, xticklabels=corr.columns, yticklabels=corr.columns, \n",
        "                 linewidths=.2, cmap=\"YlGnBu\")"
      ],
      "id": "c32a300c"
    },
    {
      "cell_type": "markdown",
      "metadata": {
        "id": "25efb6c1"
      },
      "source": [
        "## Basic Predictive Modeling\n",
        "\n",
        "As we know that this is a regression problem then we have to predict discrete value, which is our target- trip_duration.\n",
        "\n",
        "**So the evalutation metric for this model is - Root Mean Squared Error(RMSE)**\n",
        "\n",
        "RMSE is a very simple metric to be used for evaluation. Since, we will be comparing our models and we will explicitly create a benchmark model as a baseline, RMSE will easy to compare these different models. Lower, the value of RMSE, better the model. Also, it will help in getting the elbow curve."
      ],
      "id": "25efb6c1"
    },
    {
      "cell_type": "markdown",
      "metadata": {
        "id": "8ddbceb5"
      },
      "source": [
        "## Benchmark model"
      ],
      "id": "8ddbceb5"
    },
    {
      "cell_type": "markdown",
      "metadata": {
        "id": "640f0474"
      },
      "source": [
        "**Segregating variables: Independent and Dependent Variables**"
      ],
      "id": "640f0474"
    },
    {
      "cell_type": "code",
      "execution_count": 182,
      "metadata": {
        "id": "e8f5fdf9"
      },
      "outputs": [],
      "source": [
        "#seperating independent and dependent variables\n",
        "X = df1.drop('log_trip_duration', axis=1)\n",
        "y = df1['log_trip_duration']"
      ],
      "id": "e8f5fdf9"
    },
    {
      "cell_type": "markdown",
      "metadata": {
        "id": "ae8cfdec"
      },
      "source": [
        "**Scaling the data (Using MinMax Scaler)**"
      ],
      "id": "ae8cfdec"
    },
    {
      "cell_type": "code",
      "execution_count": 183,
      "metadata": {
        "id": "f56a7c70"
      },
      "outputs": [],
      "source": [
        "#Importing MinMax Scaler\n",
        "from sklearn.preprocessing import MinMaxScaler\n",
        "scaler = MinMaxScaler()\n",
        "x_scaled = scaler.fit_transform(X)\n",
        "X = pd.DataFrame(x_scaled, columns=X.columns)"
      ],
      "id": "f56a7c70"
    },
    {
      "cell_type": "code",
      "execution_count": 184,
      "metadata": {
        "id": "1677b536"
      },
      "outputs": [],
      "source": [
        "X_train, X_test, y_train, y_test = train_test_split(X, y, test_size=0.25, random_state=42)"
      ],
      "id": "1677b536"
    },
    {
      "cell_type": "code",
      "execution_count": 185,
      "metadata": {
        "id": "26fe95ac"
      },
      "outputs": [],
      "source": [
        "# creating train and test out of dataset for benchmark model\n",
        "train = pd.concat([X_train, y_train], axis=1, join=\"inner\")\n",
        "test = pd.concat([X_test, y_test], axis=1, join=\"inner\")"
      ],
      "id": "26fe95ac"
    },
    {
      "cell_type": "code",
      "execution_count": 186,
      "metadata": {
        "colab": {
          "base_uri": "https://localhost:8080/",
          "height": 206
        },
        "id": "23db8267",
        "outputId": "6bd0f68e-2279-46b9-fa04-95340f808a1f"
      },
      "outputs": [
        {
          "output_type": "execute_result",
          "data": {
            "text/plain": [
              "        vendor_id  passenger_count  store_and_fwd_flag  check_trip_duration  \\\n",
              "442776        0.0              0.2                 0.0             0.000583   \n",
              "2914          0.0              0.0                 0.0             0.000164   \n",
              "166878        1.0              0.0                 0.0             0.000258   \n",
              "83354         0.0              0.0                 0.0             0.000244   \n",
              "249100        0.0              0.0                 0.0             0.000285   \n",
              "\n",
              "        pickup_day  pickup_hour  pickup_weekday  dropoff_day  dropoff_hour  \\\n",
              "442776    0.900000     0.956522        0.166667     0.900000      0.956522   \n",
              "2914      0.500000     0.913043        0.833333     0.500000      0.913043   \n",
              "166878    0.733333     0.826087        0.833333     0.733333      0.826087   \n",
              "83354     0.133333     0.652174        0.166667     0.133333      0.652174   \n",
              "249100    0.800000     0.304348        0.333333     0.800000      0.347826   \n",
              "\n",
              "        dropoff_weekday  log_trip_duration  \n",
              "442776         0.166667           7.244942  \n",
              "2914           0.833333           7.710205  \n",
              "166878         0.833333           7.066467  \n",
              "83354          0.166667           7.073270  \n",
              "249100         0.333333           6.093570  "
            ],
            "text/html": [
              "\n",
              "  <div id=\"df-f71ace4e-ad95-4e2a-90df-af53631bce01\">\n",
              "    <div class=\"colab-df-container\">\n",
              "      <div>\n",
              "<style scoped>\n",
              "    .dataframe tbody tr th:only-of-type {\n",
              "        vertical-align: middle;\n",
              "    }\n",
              "\n",
              "    .dataframe tbody tr th {\n",
              "        vertical-align: top;\n",
              "    }\n",
              "\n",
              "    .dataframe thead th {\n",
              "        text-align: right;\n",
              "    }\n",
              "</style>\n",
              "<table border=\"1\" class=\"dataframe\">\n",
              "  <thead>\n",
              "    <tr style=\"text-align: right;\">\n",
              "      <th></th>\n",
              "      <th>vendor_id</th>\n",
              "      <th>passenger_count</th>\n",
              "      <th>store_and_fwd_flag</th>\n",
              "      <th>check_trip_duration</th>\n",
              "      <th>pickup_day</th>\n",
              "      <th>pickup_hour</th>\n",
              "      <th>pickup_weekday</th>\n",
              "      <th>dropoff_day</th>\n",
              "      <th>dropoff_hour</th>\n",
              "      <th>dropoff_weekday</th>\n",
              "      <th>log_trip_duration</th>\n",
              "    </tr>\n",
              "  </thead>\n",
              "  <tbody>\n",
              "    <tr>\n",
              "      <th>442776</th>\n",
              "      <td>0.0</td>\n",
              "      <td>0.2</td>\n",
              "      <td>0.0</td>\n",
              "      <td>0.000583</td>\n",
              "      <td>0.900000</td>\n",
              "      <td>0.956522</td>\n",
              "      <td>0.166667</td>\n",
              "      <td>0.900000</td>\n",
              "      <td>0.956522</td>\n",
              "      <td>0.166667</td>\n",
              "      <td>7.244942</td>\n",
              "    </tr>\n",
              "    <tr>\n",
              "      <th>2914</th>\n",
              "      <td>0.0</td>\n",
              "      <td>0.0</td>\n",
              "      <td>0.0</td>\n",
              "      <td>0.000164</td>\n",
              "      <td>0.500000</td>\n",
              "      <td>0.913043</td>\n",
              "      <td>0.833333</td>\n",
              "      <td>0.500000</td>\n",
              "      <td>0.913043</td>\n",
              "      <td>0.833333</td>\n",
              "      <td>7.710205</td>\n",
              "    </tr>\n",
              "    <tr>\n",
              "      <th>166878</th>\n",
              "      <td>1.0</td>\n",
              "      <td>0.0</td>\n",
              "      <td>0.0</td>\n",
              "      <td>0.000258</td>\n",
              "      <td>0.733333</td>\n",
              "      <td>0.826087</td>\n",
              "      <td>0.833333</td>\n",
              "      <td>0.733333</td>\n",
              "      <td>0.826087</td>\n",
              "      <td>0.833333</td>\n",
              "      <td>7.066467</td>\n",
              "    </tr>\n",
              "    <tr>\n",
              "      <th>83354</th>\n",
              "      <td>0.0</td>\n",
              "      <td>0.0</td>\n",
              "      <td>0.0</td>\n",
              "      <td>0.000244</td>\n",
              "      <td>0.133333</td>\n",
              "      <td>0.652174</td>\n",
              "      <td>0.166667</td>\n",
              "      <td>0.133333</td>\n",
              "      <td>0.652174</td>\n",
              "      <td>0.166667</td>\n",
              "      <td>7.073270</td>\n",
              "    </tr>\n",
              "    <tr>\n",
              "      <th>249100</th>\n",
              "      <td>0.0</td>\n",
              "      <td>0.0</td>\n",
              "      <td>0.0</td>\n",
              "      <td>0.000285</td>\n",
              "      <td>0.800000</td>\n",
              "      <td>0.304348</td>\n",
              "      <td>0.333333</td>\n",
              "      <td>0.800000</td>\n",
              "      <td>0.347826</td>\n",
              "      <td>0.333333</td>\n",
              "      <td>6.093570</td>\n",
              "    </tr>\n",
              "  </tbody>\n",
              "</table>\n",
              "</div>\n",
              "      <button class=\"colab-df-convert\" onclick=\"convertToInteractive('df-f71ace4e-ad95-4e2a-90df-af53631bce01')\"\n",
              "              title=\"Convert this dataframe to an interactive table.\"\n",
              "              style=\"display:none;\">\n",
              "        \n",
              "  <svg xmlns=\"http://www.w3.org/2000/svg\" height=\"24px\"viewBox=\"0 0 24 24\"\n",
              "       width=\"24px\">\n",
              "    <path d=\"M0 0h24v24H0V0z\" fill=\"none\"/>\n",
              "    <path d=\"M18.56 5.44l.94 2.06.94-2.06 2.06-.94-2.06-.94-.94-2.06-.94 2.06-2.06.94zm-11 1L8.5 8.5l.94-2.06 2.06-.94-2.06-.94L8.5 2.5l-.94 2.06-2.06.94zm10 10l.94 2.06.94-2.06 2.06-.94-2.06-.94-.94-2.06-.94 2.06-2.06.94z\"/><path d=\"M17.41 7.96l-1.37-1.37c-.4-.4-.92-.59-1.43-.59-.52 0-1.04.2-1.43.59L10.3 9.45l-7.72 7.72c-.78.78-.78 2.05 0 2.83L4 21.41c.39.39.9.59 1.41.59.51 0 1.02-.2 1.41-.59l7.78-7.78 2.81-2.81c.8-.78.8-2.07 0-2.86zM5.41 20L4 18.59l7.72-7.72 1.47 1.35L5.41 20z\"/>\n",
              "  </svg>\n",
              "      </button>\n",
              "      \n",
              "  <style>\n",
              "    .colab-df-container {\n",
              "      display:flex;\n",
              "      flex-wrap:wrap;\n",
              "      gap: 12px;\n",
              "    }\n",
              "\n",
              "    .colab-df-convert {\n",
              "      background-color: #E8F0FE;\n",
              "      border: none;\n",
              "      border-radius: 50%;\n",
              "      cursor: pointer;\n",
              "      display: none;\n",
              "      fill: #1967D2;\n",
              "      height: 32px;\n",
              "      padding: 0 0 0 0;\n",
              "      width: 32px;\n",
              "    }\n",
              "\n",
              "    .colab-df-convert:hover {\n",
              "      background-color: #E2EBFA;\n",
              "      box-shadow: 0px 1px 2px rgba(60, 64, 67, 0.3), 0px 1px 3px 1px rgba(60, 64, 67, 0.15);\n",
              "      fill: #174EA6;\n",
              "    }\n",
              "\n",
              "    [theme=dark] .colab-df-convert {\n",
              "      background-color: #3B4455;\n",
              "      fill: #D2E3FC;\n",
              "    }\n",
              "\n",
              "    [theme=dark] .colab-df-convert:hover {\n",
              "      background-color: #434B5C;\n",
              "      box-shadow: 0px 1px 3px 1px rgba(0, 0, 0, 0.15);\n",
              "      filter: drop-shadow(0px 1px 2px rgba(0, 0, 0, 0.3));\n",
              "      fill: #FFFFFF;\n",
              "    }\n",
              "  </style>\n",
              "\n",
              "      <script>\n",
              "        const buttonEl =\n",
              "          document.querySelector('#df-f71ace4e-ad95-4e2a-90df-af53631bce01 button.colab-df-convert');\n",
              "        buttonEl.style.display =\n",
              "          google.colab.kernel.accessAllowed ? 'block' : 'none';\n",
              "\n",
              "        async function convertToInteractive(key) {\n",
              "          const element = document.querySelector('#df-f71ace4e-ad95-4e2a-90df-af53631bce01');\n",
              "          const dataTable =\n",
              "            await google.colab.kernel.invokeFunction('convertToInteractive',\n",
              "                                                     [key], {});\n",
              "          if (!dataTable) return;\n",
              "\n",
              "          const docLinkHtml = 'Like what you see? Visit the ' +\n",
              "            '<a target=\"_blank\" href=https://colab.research.google.com/notebooks/data_table.ipynb>data table notebook</a>'\n",
              "            + ' to learn more about interactive tables.';\n",
              "          element.innerHTML = '';\n",
              "          dataTable['output_type'] = 'display_data';\n",
              "          await google.colab.output.renderOutput(dataTable, element);\n",
              "          const docLink = document.createElement('div');\n",
              "          docLink.innerHTML = docLinkHtml;\n",
              "          element.appendChild(docLink);\n",
              "        }\n",
              "      </script>\n",
              "    </div>\n",
              "  </div>\n",
              "  "
            ]
          },
          "metadata": {},
          "execution_count": 186
        }
      ],
      "source": [
        "train.head()"
      ],
      "id": "23db8267"
    },
    {
      "cell_type": "code",
      "execution_count": 187,
      "metadata": {
        "colab": {
          "base_uri": "https://localhost:8080/",
          "height": 206
        },
        "id": "4c4eaa16",
        "outputId": "48c1f5fd-4b61-45ab-a6bf-f6543adf97de"
      },
      "outputs": [
        {
          "output_type": "execute_result",
          "data": {
            "text/plain": [
              "        vendor_id  passenger_count  store_and_fwd_flag  check_trip_duration  \\\n",
              "227330        1.0              0.0                 0.0             0.000301   \n",
              "443688        1.0              0.4                 0.0             0.000099   \n",
              "88846         0.0              0.0                 0.0             0.000114   \n",
              "95731         0.0              0.6                 0.0             0.000425   \n",
              "99513         1.0              0.0                 0.0             0.000120   \n",
              "\n",
              "        pickup_day  pickup_hour  pickup_weekday  dropoff_day  dropoff_hour  \\\n",
              "227330    0.433333     0.130435        0.833333     0.433333      0.130435   \n",
              "443688    0.866667     0.956522        0.000000     0.866667      0.956522   \n",
              "88846     0.100000     0.565217        0.833333     0.100000      0.565217   \n",
              "95731     0.366667     0.695652        0.500000     0.366667      0.695652   \n",
              "99513     0.866667     0.652174        0.833333     0.866667      0.652174   \n",
              "\n",
              "        dropoff_weekday  log_trip_duration  \n",
              "227330         0.833333           6.820016  \n",
              "443688         0.000000           6.739337  \n",
              "88846          0.833333           7.347944  \n",
              "95731          0.500000           6.306275  \n",
              "99513          0.833333           8.103494  "
            ],
            "text/html": [
              "\n",
              "  <div id=\"df-febb9c45-393a-4af5-b324-2fa577ee435c\">\n",
              "    <div class=\"colab-df-container\">\n",
              "      <div>\n",
              "<style scoped>\n",
              "    .dataframe tbody tr th:only-of-type {\n",
              "        vertical-align: middle;\n",
              "    }\n",
              "\n",
              "    .dataframe tbody tr th {\n",
              "        vertical-align: top;\n",
              "    }\n",
              "\n",
              "    .dataframe thead th {\n",
              "        text-align: right;\n",
              "    }\n",
              "</style>\n",
              "<table border=\"1\" class=\"dataframe\">\n",
              "  <thead>\n",
              "    <tr style=\"text-align: right;\">\n",
              "      <th></th>\n",
              "      <th>vendor_id</th>\n",
              "      <th>passenger_count</th>\n",
              "      <th>store_and_fwd_flag</th>\n",
              "      <th>check_trip_duration</th>\n",
              "      <th>pickup_day</th>\n",
              "      <th>pickup_hour</th>\n",
              "      <th>pickup_weekday</th>\n",
              "      <th>dropoff_day</th>\n",
              "      <th>dropoff_hour</th>\n",
              "      <th>dropoff_weekday</th>\n",
              "      <th>log_trip_duration</th>\n",
              "    </tr>\n",
              "  </thead>\n",
              "  <tbody>\n",
              "    <tr>\n",
              "      <th>227330</th>\n",
              "      <td>1.0</td>\n",
              "      <td>0.0</td>\n",
              "      <td>0.0</td>\n",
              "      <td>0.000301</td>\n",
              "      <td>0.433333</td>\n",
              "      <td>0.130435</td>\n",
              "      <td>0.833333</td>\n",
              "      <td>0.433333</td>\n",
              "      <td>0.130435</td>\n",
              "      <td>0.833333</td>\n",
              "      <td>6.820016</td>\n",
              "    </tr>\n",
              "    <tr>\n",
              "      <th>443688</th>\n",
              "      <td>1.0</td>\n",
              "      <td>0.4</td>\n",
              "      <td>0.0</td>\n",
              "      <td>0.000099</td>\n",
              "      <td>0.866667</td>\n",
              "      <td>0.956522</td>\n",
              "      <td>0.000000</td>\n",
              "      <td>0.866667</td>\n",
              "      <td>0.956522</td>\n",
              "      <td>0.000000</td>\n",
              "      <td>6.739337</td>\n",
              "    </tr>\n",
              "    <tr>\n",
              "      <th>88846</th>\n",
              "      <td>0.0</td>\n",
              "      <td>0.0</td>\n",
              "      <td>0.0</td>\n",
              "      <td>0.000114</td>\n",
              "      <td>0.100000</td>\n",
              "      <td>0.565217</td>\n",
              "      <td>0.833333</td>\n",
              "      <td>0.100000</td>\n",
              "      <td>0.565217</td>\n",
              "      <td>0.833333</td>\n",
              "      <td>7.347944</td>\n",
              "    </tr>\n",
              "    <tr>\n",
              "      <th>95731</th>\n",
              "      <td>0.0</td>\n",
              "      <td>0.6</td>\n",
              "      <td>0.0</td>\n",
              "      <td>0.000425</td>\n",
              "      <td>0.366667</td>\n",
              "      <td>0.695652</td>\n",
              "      <td>0.500000</td>\n",
              "      <td>0.366667</td>\n",
              "      <td>0.695652</td>\n",
              "      <td>0.500000</td>\n",
              "      <td>6.306275</td>\n",
              "    </tr>\n",
              "    <tr>\n",
              "      <th>99513</th>\n",
              "      <td>1.0</td>\n",
              "      <td>0.0</td>\n",
              "      <td>0.0</td>\n",
              "      <td>0.000120</td>\n",
              "      <td>0.866667</td>\n",
              "      <td>0.652174</td>\n",
              "      <td>0.833333</td>\n",
              "      <td>0.866667</td>\n",
              "      <td>0.652174</td>\n",
              "      <td>0.833333</td>\n",
              "      <td>8.103494</td>\n",
              "    </tr>\n",
              "  </tbody>\n",
              "</table>\n",
              "</div>\n",
              "      <button class=\"colab-df-convert\" onclick=\"convertToInteractive('df-febb9c45-393a-4af5-b324-2fa577ee435c')\"\n",
              "              title=\"Convert this dataframe to an interactive table.\"\n",
              "              style=\"display:none;\">\n",
              "        \n",
              "  <svg xmlns=\"http://www.w3.org/2000/svg\" height=\"24px\"viewBox=\"0 0 24 24\"\n",
              "       width=\"24px\">\n",
              "    <path d=\"M0 0h24v24H0V0z\" fill=\"none\"/>\n",
              "    <path d=\"M18.56 5.44l.94 2.06.94-2.06 2.06-.94-2.06-.94-.94-2.06-.94 2.06-2.06.94zm-11 1L8.5 8.5l.94-2.06 2.06-.94-2.06-.94L8.5 2.5l-.94 2.06-2.06.94zm10 10l.94 2.06.94-2.06 2.06-.94-2.06-.94-.94-2.06-.94 2.06-2.06.94z\"/><path d=\"M17.41 7.96l-1.37-1.37c-.4-.4-.92-.59-1.43-.59-.52 0-1.04.2-1.43.59L10.3 9.45l-7.72 7.72c-.78.78-.78 2.05 0 2.83L4 21.41c.39.39.9.59 1.41.59.51 0 1.02-.2 1.41-.59l7.78-7.78 2.81-2.81c.8-.78.8-2.07 0-2.86zM5.41 20L4 18.59l7.72-7.72 1.47 1.35L5.41 20z\"/>\n",
              "  </svg>\n",
              "      </button>\n",
              "      \n",
              "  <style>\n",
              "    .colab-df-container {\n",
              "      display:flex;\n",
              "      flex-wrap:wrap;\n",
              "      gap: 12px;\n",
              "    }\n",
              "\n",
              "    .colab-df-convert {\n",
              "      background-color: #E8F0FE;\n",
              "      border: none;\n",
              "      border-radius: 50%;\n",
              "      cursor: pointer;\n",
              "      display: none;\n",
              "      fill: #1967D2;\n",
              "      height: 32px;\n",
              "      padding: 0 0 0 0;\n",
              "      width: 32px;\n",
              "    }\n",
              "\n",
              "    .colab-df-convert:hover {\n",
              "      background-color: #E2EBFA;\n",
              "      box-shadow: 0px 1px 2px rgba(60, 64, 67, 0.3), 0px 1px 3px 1px rgba(60, 64, 67, 0.15);\n",
              "      fill: #174EA6;\n",
              "    }\n",
              "\n",
              "    [theme=dark] .colab-df-convert {\n",
              "      background-color: #3B4455;\n",
              "      fill: #D2E3FC;\n",
              "    }\n",
              "\n",
              "    [theme=dark] .colab-df-convert:hover {\n",
              "      background-color: #434B5C;\n",
              "      box-shadow: 0px 1px 3px 1px rgba(0, 0, 0, 0.15);\n",
              "      filter: drop-shadow(0px 1px 2px rgba(0, 0, 0, 0.3));\n",
              "      fill: #FFFFFF;\n",
              "    }\n",
              "  </style>\n",
              "\n",
              "      <script>\n",
              "        const buttonEl =\n",
              "          document.querySelector('#df-febb9c45-393a-4af5-b324-2fa577ee435c button.colab-df-convert');\n",
              "        buttonEl.style.display =\n",
              "          google.colab.kernel.accessAllowed ? 'block' : 'none';\n",
              "\n",
              "        async function convertToInteractive(key) {\n",
              "          const element = document.querySelector('#df-febb9c45-393a-4af5-b324-2fa577ee435c');\n",
              "          const dataTable =\n",
              "            await google.colab.kernel.invokeFunction('convertToInteractive',\n",
              "                                                     [key], {});\n",
              "          if (!dataTable) return;\n",
              "\n",
              "          const docLinkHtml = 'Like what you see? Visit the ' +\n",
              "            '<a target=\"_blank\" href=https://colab.research.google.com/notebooks/data_table.ipynb>data table notebook</a>'\n",
              "            + ' to learn more about interactive tables.';\n",
              "          element.innerHTML = '';\n",
              "          dataTable['output_type'] = 'display_data';\n",
              "          await google.colab.output.renderOutput(dataTable, element);\n",
              "          const docLink = document.createElement('div');\n",
              "          docLink.innerHTML = docLinkHtml;\n",
              "          element.appendChild(docLink);\n",
              "        }\n",
              "      </script>\n",
              "    </div>\n",
              "  </div>\n",
              "  "
            ]
          },
          "metadata": {},
          "execution_count": 187
        }
      ],
      "source": [
        "test.head()"
      ],
      "id": "4c4eaa16"
    },
    {
      "cell_type": "code",
      "execution_count": 188,
      "metadata": {
        "id": "e8207537"
      },
      "outputs": [],
      "source": [
        "# storing simple mean in a new column in the test set as \"simple_mean\"\n",
        "test['simple_mean'] = train['log_trip_duration'].mean()"
      ],
      "id": "e8207537"
    },
    {
      "cell_type": "code",
      "execution_count": 189,
      "metadata": {
        "colab": {
          "base_uri": "https://localhost:8080/"
        },
        "id": "2c534e81",
        "outputId": "24a6a1a5-342b-4261-8964-2e31271eac39"
      },
      "outputs": [
        {
          "output_type": "execute_result",
          "data": {
            "text/plain": [
              "0.7861438306125715"
            ]
          },
          "metadata": {},
          "execution_count": 189
        }
      ],
      "source": [
        "#importing the library\n",
        "from sklearn.metrics import mean_squared_error as MSE\n",
        "from math import sqrt\n",
        "\n",
        "#calculating Root mean squared error\n",
        "error = sqrt(MSE(test['log_trip_duration'] , test['simple_mean']))\n",
        "error"
      ],
      "id": "2c534e81"
    },
    {
      "cell_type": "code",
      "execution_count": 190,
      "metadata": {
        "colab": {
          "base_uri": "https://localhost:8080/",
          "height": 143
        },
        "id": "8fc3a3c5",
        "outputId": "001ce7c2-e4c5-45c7-a682-983fb91b2e20"
      },
      "outputs": [
        {
          "output_type": "execute_result",
          "data": {
            "text/plain": [
              "                    log_trip_duration\n",
              "store_and_fwd_flag                   \n",
              "0.0                          6.463763\n",
              "1.0                          6.475923"
            ],
            "text/html": [
              "\n",
              "  <div id=\"df-641b432b-63ca-48af-a09d-1b884497fe27\">\n",
              "    <div class=\"colab-df-container\">\n",
              "      <div>\n",
              "<style scoped>\n",
              "    .dataframe tbody tr th:only-of-type {\n",
              "        vertical-align: middle;\n",
              "    }\n",
              "\n",
              "    .dataframe tbody tr th {\n",
              "        vertical-align: top;\n",
              "    }\n",
              "\n",
              "    .dataframe thead th {\n",
              "        text-align: right;\n",
              "    }\n",
              "</style>\n",
              "<table border=\"1\" class=\"dataframe\">\n",
              "  <thead>\n",
              "    <tr style=\"text-align: right;\">\n",
              "      <th></th>\n",
              "      <th>log_trip_duration</th>\n",
              "    </tr>\n",
              "    <tr>\n",
              "      <th>store_and_fwd_flag</th>\n",
              "      <th></th>\n",
              "    </tr>\n",
              "  </thead>\n",
              "  <tbody>\n",
              "    <tr>\n",
              "      <th>0.0</th>\n",
              "      <td>6.463763</td>\n",
              "    </tr>\n",
              "    <tr>\n",
              "      <th>1.0</th>\n",
              "      <td>6.475923</td>\n",
              "    </tr>\n",
              "  </tbody>\n",
              "</table>\n",
              "</div>\n",
              "      <button class=\"colab-df-convert\" onclick=\"convertToInteractive('df-641b432b-63ca-48af-a09d-1b884497fe27')\"\n",
              "              title=\"Convert this dataframe to an interactive table.\"\n",
              "              style=\"display:none;\">\n",
              "        \n",
              "  <svg xmlns=\"http://www.w3.org/2000/svg\" height=\"24px\"viewBox=\"0 0 24 24\"\n",
              "       width=\"24px\">\n",
              "    <path d=\"M0 0h24v24H0V0z\" fill=\"none\"/>\n",
              "    <path d=\"M18.56 5.44l.94 2.06.94-2.06 2.06-.94-2.06-.94-.94-2.06-.94 2.06-2.06.94zm-11 1L8.5 8.5l.94-2.06 2.06-.94-2.06-.94L8.5 2.5l-.94 2.06-2.06.94zm10 10l.94 2.06.94-2.06 2.06-.94-2.06-.94-.94-2.06-.94 2.06-2.06.94z\"/><path d=\"M17.41 7.96l-1.37-1.37c-.4-.4-.92-.59-1.43-.59-.52 0-1.04.2-1.43.59L10.3 9.45l-7.72 7.72c-.78.78-.78 2.05 0 2.83L4 21.41c.39.39.9.59 1.41.59.51 0 1.02-.2 1.41-.59l7.78-7.78 2.81-2.81c.8-.78.8-2.07 0-2.86zM5.41 20L4 18.59l7.72-7.72 1.47 1.35L5.41 20z\"/>\n",
              "  </svg>\n",
              "      </button>\n",
              "      \n",
              "  <style>\n",
              "    .colab-df-container {\n",
              "      display:flex;\n",
              "      flex-wrap:wrap;\n",
              "      gap: 12px;\n",
              "    }\n",
              "\n",
              "    .colab-df-convert {\n",
              "      background-color: #E8F0FE;\n",
              "      border: none;\n",
              "      border-radius: 50%;\n",
              "      cursor: pointer;\n",
              "      display: none;\n",
              "      fill: #1967D2;\n",
              "      height: 32px;\n",
              "      padding: 0 0 0 0;\n",
              "      width: 32px;\n",
              "    }\n",
              "\n",
              "    .colab-df-convert:hover {\n",
              "      background-color: #E2EBFA;\n",
              "      box-shadow: 0px 1px 2px rgba(60, 64, 67, 0.3), 0px 1px 3px 1px rgba(60, 64, 67, 0.15);\n",
              "      fill: #174EA6;\n",
              "    }\n",
              "\n",
              "    [theme=dark] .colab-df-convert {\n",
              "      background-color: #3B4455;\n",
              "      fill: #D2E3FC;\n",
              "    }\n",
              "\n",
              "    [theme=dark] .colab-df-convert:hover {\n",
              "      background-color: #434B5C;\n",
              "      box-shadow: 0px 1px 3px 1px rgba(0, 0, 0, 0.15);\n",
              "      filter: drop-shadow(0px 1px 2px rgba(0, 0, 0, 0.3));\n",
              "      fill: #FFFFFF;\n",
              "    }\n",
              "  </style>\n",
              "\n",
              "      <script>\n",
              "        const buttonEl =\n",
              "          document.querySelector('#df-641b432b-63ca-48af-a09d-1b884497fe27 button.colab-df-convert');\n",
              "        buttonEl.style.display =\n",
              "          google.colab.kernel.accessAllowed ? 'block' : 'none';\n",
              "\n",
              "        async function convertToInteractive(key) {\n",
              "          const element = document.querySelector('#df-641b432b-63ca-48af-a09d-1b884497fe27');\n",
              "          const dataTable =\n",
              "            await google.colab.kernel.invokeFunction('convertToInteractive',\n",
              "                                                     [key], {});\n",
              "          if (!dataTable) return;\n",
              "\n",
              "          const docLinkHtml = 'Like what you see? Visit the ' +\n",
              "            '<a target=\"_blank\" href=https://colab.research.google.com/notebooks/data_table.ipynb>data table notebook</a>'\n",
              "            + ' to learn more about interactive tables.';\n",
              "          element.innerHTML = '';\n",
              "          dataTable['output_type'] = 'display_data';\n",
              "          await google.colab.output.renderOutput(dataTable, element);\n",
              "          const docLink = document.createElement('div');\n",
              "          docLink.innerHTML = docLinkHtml;\n",
              "          element.appendChild(docLink);\n",
              "        }\n",
              "      </script>\n",
              "    </div>\n",
              "  </div>\n",
              "  "
            ]
          },
          "metadata": {},
          "execution_count": 190
        }
      ],
      "source": [
        "trip_store = pd.pivot_table(train, values='log_trip_duration', index =['store_and_fwd_flag'], aggfunc=np.mean)\n",
        "trip_store"
      ],
      "id": "8fc3a3c5"
    },
    {
      "cell_type": "code",
      "execution_count": 191,
      "metadata": {
        "id": "e9bb92e0"
      },
      "outputs": [],
      "source": [
        "# initializing new column to zero\n",
        "test['trip_store_mean'] = 0\n",
        "\n",
        "# For every unique entry in Outlet_Identifier\n",
        "for i in train['store_and_fwd_flag'].unique():\n",
        "  # Assign the mean value corresponding to unique entry\n",
        "  test['trip_store_mean'][test['store_and_fwd_flag'] == i] = train['log_trip_duration'][train['store_and_fwd_flag'] == i].mean()"
      ],
      "id": "e9bb92e0"
    },
    {
      "cell_type": "code",
      "execution_count": 192,
      "metadata": {
        "colab": {
          "base_uri": "https://localhost:8080/"
        },
        "id": "35c39b1e",
        "outputId": "eedee84b-af1c-43db-9a2b-60ffd3014321"
      },
      "outputs": [
        {
          "output_type": "execute_result",
          "data": {
            "text/plain": [
              "0.7861507655847143"
            ]
          },
          "metadata": {},
          "execution_count": 192
        }
      ],
      "source": [
        "#calculating Root mean squared error\n",
        "error = sqrt(MSE(test['log_trip_duration'] , test['trip_store_mean'] ))\n",
        "error"
      ],
      "id": "35c39b1e"
    },
    {
      "cell_type": "markdown",
      "metadata": {
        "id": "e789dae4"
      },
      "source": [
        "As after the Calculation, The Error value as : **0.7871** for our **Benchmark Model**"
      ],
      "id": "e789dae4"
    },
    {
      "cell_type": "markdown",
      "metadata": {
        "id": "8df7a284"
      },
      "source": [
        "## KNN Model"
      ],
      "id": "8df7a284"
    },
    {
      "cell_type": "code",
      "execution_count": 202,
      "metadata": {
        "colab": {
          "base_uri": "https://localhost:8080/"
        },
        "id": "da40babb",
        "outputId": "7bcbdde2-55a2-45c1-c2bd-70e0e2331a88"
      },
      "outputs": [
        {
          "output_type": "stream",
          "name": "stdout",
          "text": [
            "Test RMSE:  0.47616264990765184\n"
          ]
        }
      ],
      "source": [
        "# Creating instance of KNN\n",
        "knn = KNN(n_neighbors=5)\n",
        "\n",
        "# Fitting the model\n",
        "knn.fit(X_train, y_train)\n",
        "\n",
        "# Predicting over the Train Set and calculating RMSE\n",
        "y_pred = knn.predict(X_test)\n",
        "\n",
        "error = sqrt(MSE(y_test, y_pred))\n",
        "\n",
        "print(\"Test RMSE: \", error)"
      ],
      "id": "da40babb"
    },
    {
      "cell_type": "markdown",
      "metadata": {
        "id": "5f467adf"
      },
      "source": [
        "**Elbow curve to determine the best value of k**"
      ],
      "id": "5f467adf"
    },
    {
      "cell_type": "code",
      "execution_count": 207,
      "metadata": {
        "id": "8d73ec65"
      },
      "outputs": [],
      "source": [
        "def Elbow(k):\n",
        "  test = []\n",
        "#training model for evey value of K\n",
        "  for i in k:\n",
        "    #Instance of KNN\n",
        "    reg = KNN(n_neighbors=i)\n",
        "    reg.fit(X_train, y_train)\n",
        "    #Appending mse value to empty list claculated using the predictions\n",
        "    tmp_pred = reg.predict(X_test)\n",
        "    temp_error = sqrt(MSE(tmp_pred, y_test))\n",
        "    test.append(temp_error)\n",
        "\n",
        "  return test"
      ],
      "id": "8d73ec65"
    },
    {
      "cell_type": "code",
      "execution_count": 208,
      "metadata": {
        "id": "d6089b86"
      },
      "outputs": [],
      "source": [
        "#Defining K range\n",
        "k = range(1, 10)"
      ],
      "id": "d6089b86"
    },
    {
      "cell_type": "code",
      "execution_count": 209,
      "metadata": {
        "id": "8fb632e6"
      },
      "outputs": [],
      "source": [
        "# calling above defined function\n",
        "test = Elbow(k)"
      ],
      "id": "8fb632e6"
    },
    {
      "cell_type": "code",
      "execution_count": 210,
      "metadata": {
        "colab": {
          "base_uri": "https://localhost:8080/",
          "height": 318
        },
        "id": "ed0b28f6",
        "outputId": "44799db1-4cdc-4c77-c218-69bd13fee6bc"
      },
      "outputs": [
        {
          "output_type": "execute_result",
          "data": {
            "text/plain": [
              "Text(0.5, 1.0, 'Elbow curve for test')"
            ]
          },
          "metadata": {},
          "execution_count": 210
        },
        {
          "output_type": "display_data",
          "data": {
            "text/plain": [
              "<Figure size 432x288 with 1 Axes>"
            ],
            "image/png": "[encoded data removed]"
          },
          "metadata": {}
        }
      ],
      "source": [
        "# plotting the curve\n",
        "plt.plot(k, test)\n",
        "plt.xlabel('K Neighbors')\n",
        "plt.ylabel('RMSE')\n",
        "plt.title('Elbow curve for test')"
      ],
      "id": "ed0b28f6"
    },
    {
      "cell_type": "markdown",
      "metadata": {
        "id": "55c6d62f"
      },
      "source": [
        "Test Score"
      ],
      "id": "55c6d62f"
    },
    {
      "cell_type": "code",
      "execution_count": 211,
      "metadata": {
        "colab": {
          "base_uri": "https://localhost:8080/"
        },
        "id": "1d4ab160",
        "outputId": "594469b7-6803-47cb-8643-2b5ee3ec209c"
      },
      "outputs": [
        {
          "output_type": "stream",
          "name": "stdout",
          "text": [
            "Test RMSE:  0.4575497079273129\n"
          ]
        }
      ],
      "source": [
        "# Creating instance of KNN again at the value of n_neighbours=6\n",
        "knn = KNN(n_neighbors=6)\n",
        "\n",
        "# Fitting the model\n",
        "knn.fit(X_train, y_train)\n",
        "\n",
        "# Predicting over the Test Set and calculating RMSE\n",
        "y_pred = knn.predict(X_test)\n",
        "\n",
        "error = sqrt(MSE(y_test, y_pred))\n",
        "\n",
        "print(\"Test RMSE: \", error)"
      ],
      "id": "1d4ab160"
    },
    {
      "cell_type": "markdown",
      "metadata": {
        "id": "7faac9fb"
      },
      "source": [
        "Train Score"
      ],
      "id": "7faac9fb"
    },
    {
      "cell_type": "code",
      "execution_count": 212,
      "metadata": {
        "colab": {
          "base_uri": "https://localhost:8080/"
        },
        "id": "8743dd70",
        "outputId": "8a15b783-488b-46dc-bb15-e47da470f61d"
      },
      "outputs": [
        {
          "output_type": "stream",
          "name": "stdout",
          "text": [
            "Train RMSE:  0.3309392046027071\n"
          ]
        }
      ],
      "source": [
        "# Predicting over the Train Set and calculating RMSE\n",
        "y_pred = knn.predict(X_train)\n",
        "\n",
        "knn_train_rmse = sqrt(MSE(y_train, y_pred))\n",
        "\n",
        "print(\"Train RMSE: \", knn_train_rmse)"
      ],
      "id": "8743dd70"
    }
  ],
  "metadata": {
    "colab": {
      "name": "EDA+Machine Learning.ipynb",
      "provenance": [],
      "include_colab_link": true
    },
    "kernelspec": {
      "display_name": "Python 3 (ipykernel)",
      "language": "python",
      "name": "python3"
    },
    "language_info": {
      "codemirror_mode": {
        "name": "ipython",
        "version": 3
      },
      "file_extension": ".py",
      "mimetype": "text/x-python",
      "name": "python",
      "nbconvert_exporter": "python",
      "pygments_lexer": "ipython3",
      "version": "3.9.7"
    }
  },
  "nbformat": 4,
  "nbformat_minor": 5
}